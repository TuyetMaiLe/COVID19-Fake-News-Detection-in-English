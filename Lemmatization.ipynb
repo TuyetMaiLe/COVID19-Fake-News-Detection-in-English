{
  "nbformat": 4,
  "nbformat_minor": 0,
  "metadata": {
    "colab": {
      "name": "Lemmatization (1).ipynb",
      "provenance": [],
      "toc_visible": true,
      "include_colab_link": true
    },
    "kernelspec": {
      "display_name": "Python 3",
      "name": "python3"
    },
    "accelerator": "GPU"
  },
  "cells": [
    {
      "cell_type": "markdown",
      "metadata": {
        "id": "view-in-github",
        "colab_type": "text"
      },
      "source": [
        "<a href=\"https://colab.research.google.com/github/TuyetMaiLe/COVID19-Fake-News-Detection-in-English/blob/main/Lemmatization.ipynb\" target=\"_parent\"><img src=\"https://colab.research.google.com/assets/colab-badge.svg\" alt=\"Open In Colab\"/></a>"
      ]
    },
    {
      "cell_type": "code",
      "metadata": {
        "colab": {
          "base_uri": "https://localhost:8080/"
        },
        "id": "Ljybs4eqQCQm",
        "outputId": "d79c32aa-99d8-425b-9075-5abd308c6ce0"
      },
      "source": [
        "import nltk\n",
        "nltk.download(\"stopwords\")\n",
        "nltk.download('wordnet')\n",
        "!pip install emoji"
      ],
      "execution_count": null,
      "outputs": [
        {
          "output_type": "stream",
          "text": [
            "[nltk_data] Downloading package stopwords to /root/nltk_data...\n",
            "[nltk_data]   Unzipping corpora/stopwords.zip.\n",
            "[nltk_data] Downloading package wordnet to /root/nltk_data...\n",
            "[nltk_data]   Unzipping corpora/wordnet.zip.\n",
            "Collecting emoji\n",
            "\u001b[?25l  Downloading https://files.pythonhosted.org/packages/ff/1c/1f1457fe52d0b30cbeebfd578483cedb3e3619108d2d5a21380dfecf8ffd/emoji-0.6.0.tar.gz (51kB)\n",
            "\u001b[K     |████████████████████████████████| 51kB 5.7MB/s \n",
            "\u001b[?25hBuilding wheels for collected packages: emoji\n",
            "  Building wheel for emoji (setup.py) ... \u001b[?25l\u001b[?25hdone\n",
            "  Created wheel for emoji: filename=emoji-0.6.0-cp36-none-any.whl size=49715 sha256=1980c093467e17c0406b714dda2e023bedb3957dd0801c639f3d57ad80d3e742\n",
            "  Stored in directory: /root/.cache/pip/wheels/46/2c/8b/9dcf5216ca68e14e0320e283692dce8ae321cdc01e73e17796\n",
            "Successfully built emoji\n",
            "Installing collected packages: emoji\n",
            "Successfully installed emoji-0.6.0\n"
          ],
          "name": "stdout"
        }
      ]
    },
    {
      "cell_type": "code",
      "metadata": {
        "id": "rwTTzfHwLMc4"
      },
      "source": [
        "import numpy as np\n",
        "import pandas as pd\n",
        "import re\n",
        "from nltk.stem.porter import PorterStemmer\n",
        "from nltk.corpus import stopwords\n",
        "from sklearn.feature_extraction.text import TfidfVectorizer\n",
        "from sklearn.feature_extraction.text import CountVectorizer\n",
        "from sklearn.linear_model import PassiveAggressiveClassifier\n",
        "from sklearn.metrics import accuracy_score, confusion_matrix\n",
        "from sklearn.metrics import f1_score\n",
        "from sklearn.metrics import recall_score\n",
        "from sklearn.metrics import precision_score\n",
        "from sklearn.metrics import classification_report\n",
        "from sklearn.tree import DecisionTreeClassifier\n",
        "from sklearn.ensemble import RandomForestClassifier\n",
        "from nltk.tokenize import TweetTokenizer \n",
        "from emoji import demojize\n",
        "from sklearn.naive_bayes import GaussianNB\n",
        "from sklearn.linear_model import LogisticRegression\n",
        "from sklearn.model_selection import KFold\n",
        "from sklearn.model_selection import cross_val_score\n",
        "from sklearn.svm import SVC\n",
        "from nltk.stem import WordNetLemmatizer\n"
      ],
      "execution_count": null,
      "outputs": []
    },
    {
      "cell_type": "code",
      "metadata": {
        "id": "3p5oKm5ALwf8"
      },
      "source": [
        "from sklearn.model_selection import GridSearchCV "
      ],
      "execution_count": null,
      "outputs": []
    },
    {
      "cell_type": "code",
      "metadata": {
        "id": "YXMTVpokL3Zm"
      },
      "source": [
        "from nltk.corpus import stopwords\n",
        "stop = stopwords.words('english')"
      ],
      "execution_count": null,
      "outputs": []
    },
    {
      "cell_type": "markdown",
      "metadata": {
        "id": "HxtjbRQOL6Gq"
      },
      "source": [
        "#Pre_Processing"
      ]
    },
    {
      "cell_type": "code",
      "metadata": {
        "id": "puTZ2pDrMHTe"
      },
      "source": [
        "Dataset_train=pd.read_excel(\"/content/Constraint_English_Train.xlsx\")\n",
        "Dataset_test= pd.read_excel(\"/content/Constraint_English_Val.xlsx\")\n",
        "Data_train = Dataset_train.drop('id', 1)\n",
        "Data_test = Dataset_test.drop('id', 1)"
      ],
      "execution_count": null,
      "outputs": []
    },
    {
      "cell_type": "code",
      "metadata": {
        "id": "nOYNEy0jIJIh"
      },
      "source": [
        "Data_train_3=Dataset_train.drop('id', 1)\n",
        "Data_train_4=Dataset_train.drop('id', 1)"
      ],
      "execution_count": null,
      "outputs": []
    },
    {
      "cell_type": "code",
      "metadata": {
        "id": "N4NC_w3YIOIi"
      },
      "source": [
        "Data_test_3=Dataset_test.drop('id', 1)\n",
        "Data_test_4=Dataset_test.drop('id', 1)"
      ],
      "execution_count": null,
      "outputs": []
    },
    {
      "cell_type": "code",
      "metadata": {
        "id": "Iz1eAUTTMJ6e"
      },
      "source": [
        "tokenizer = TweetTokenizer()"
      ],
      "execution_count": null,
      "outputs": []
    },
    {
      "cell_type": "code",
      "metadata": {
        "id": "JmWmsSeAMMRf"
      },
      "source": [
        "def normalizeToken(token):\n",
        "    lowercased_token = token.lower()\n",
        "    if token.startswith(\"@\"):\n",
        "        return \"@USER\"\n",
        "    elif lowercased_token.startswith(\"http\") or lowercased_token.startswith(\"www\"):\n",
        "        return \"HTTPURL\"\n",
        "    elif len(token) == 1:\n",
        "        return demojize(token)\n",
        "    else:\n",
        "        if token == \"’\":\n",
        "            return \"'\"\n",
        "        elif token == \"…\":\n",
        "            return \"...\"\n",
        "        else:\n",
        "            return token"
      ],
      "execution_count": null,
      "outputs": []
    },
    {
      "cell_type": "code",
      "metadata": {
        "id": "gJNuacwnMPGe"
      },
      "source": [
        "def normalizeTweet(tweet):\n",
        "    tokens = tokenizer.tokenize(tweet.replace(\"’\", \"'\").replace(\"…\", \"...\"))\n",
        "    normTweet = \" \".join([normalizeToken(token) for token in tokens])\n",
        "\n",
        "    normTweet = normTweet.replace(\"cannot \", \"can not \").replace(\"n't \", \" n't \").replace(\"n 't \", \" n't \").replace(\"ca n't\", \"can't\").replace(\"ai n't\", \"ain't\")\n",
        "    normTweet = normTweet.replace(\"'m \", \" 'm \").replace(\"'re \", \" 're \").replace(\"'s \", \" 's \").replace(\"'ll \", \" 'll \").replace(\"'d \", \" 'd \").replace(\"'ve \", \" 've \")\n",
        "    normTweet = normTweet.replace(\" p . m .\", \"  p.m.\") .replace(\" p . m \", \" p.m \").replace(\" a . m .\", \" a.m.\").replace(\" a . m \", \" a.m \")\n",
        "\n",
        "    normTweet = re.sub(r\",([0-9]{2,4}) , ([0-9]{2,4})\", r\",\\1,\\2\", normTweet)\n",
        "    normTweet = re.sub(r\"([0-9]{1,3}) / ([0-9]{2,4})\", r\"\\1/\\2\", normTweet)\n",
        "    normTweet = re.sub(r\"([0-9]{1,3})- ([0-9]{2,4})\", r\"\\1-\\2\", normTweet)\n",
        "    \n",
        "    return \" \".join(normTweet.split())"
      ],
      "execution_count": null,
      "outputs": []
    },
    {
      "cell_type": "code",
      "metadata": {
        "id": "2tQNodUCMRy3"
      },
      "source": [
        "Data_train.loc[:,\"tweet\"] = Data_train['tweet'].apply(lambda x: normalizeTweet(x))\n",
        "Data_train.loc[:,\"label\"] = Data_train['label'].apply(lambda x: 1 if x == 'fake' else 0)\n",
        "Data_train.columns = [\"tweet\", \"labels\"]"
      ],
      "execution_count": null,
      "outputs": []
    },
    {
      "cell_type": "code",
      "metadata": {
        "id": "ZVMsqCJIIhRG"
      },
      "source": [
        "Data_train_3.loc[:,\"tweet\"] = Data_train_3['tweet'].apply(lambda x: normalizeTweet(x))\n",
        "Data_train_3.loc[:,\"label\"] = Data_train_3['label'].apply(lambda x: 1 if x == 'fake' else 0)\n",
        "Data_train_3.columns = [\"tweet\", \"labels\"]\n",
        "\n",
        "Data_train_4.loc[:,\"tweet\"] = Data_train_4['tweet'].apply(lambda x: normalizeTweet(x))\n",
        "Data_train_4.loc[:,\"label\"] = Data_train_4['label'].apply(lambda x: 1 if x == 'fake' else 0)\n",
        "Data_train_4.columns = [\"tweet\", \"labels\"]"
      ],
      "execution_count": null,
      "outputs": []
    },
    {
      "cell_type": "code",
      "metadata": {
        "id": "2v-FRn78MZak"
      },
      "source": [
        "#test đã tiền xử lý\n",
        "Data_test.loc[:,\"tweet\"] = Data_test['tweet'].apply(lambda x: normalizeTweet(x))\n",
        "Data_test.loc[:,\"label\"] = Data_test['label'].apply(lambda x: 1 if x == 'fake' else 0)\n",
        "Data_test.columns = [\"tweet\", \"labels\"]"
      ],
      "execution_count": null,
      "outputs": []
    },
    {
      "cell_type": "code",
      "metadata": {
        "id": "qmRYGbqTJRS9"
      },
      "source": [
        "Data_test_3.loc[:,\"tweet\"] = Data_test_3['tweet'].apply(lambda x: normalizeTweet(x))\n",
        "Data_test_3.loc[:,\"label\"] = Data_test_3['label'].apply(lambda x: 1 if x == 'fake' else 0)\n",
        "Data_test_3.columns = [\"tweet\", \"labels\"]\n",
        "\n",
        "Data_test_4.loc[:,\"tweet\"] = Data_test_4['tweet'].apply(lambda x: normalizeTweet(x))\n",
        "Data_test_4.loc[:,\"label\"] = Data_test_4['label'].apply(lambda x: 1 if x == 'fake' else 0)\n",
        "Data_test_4.columns = [\"tweet\", \"labels\"]"
      ],
      "execution_count": null,
      "outputs": []
    },
    {
      "cell_type": "code",
      "metadata": {
        "id": "i1lfYot1HUPE"
      },
      "source": [
        "Data_train = Data_train.apply(lambda X_train: X_train.astype(str).str.lower())\n",
        "Data_test = Data_test.apply(lambda X_train: X_train.astype(str).str.lower())"
      ],
      "execution_count": null,
      "outputs": []
    },
    {
      "cell_type": "code",
      "metadata": {
        "colab": {
          "base_uri": "https://localhost:8080/",
          "height": 419
        },
        "id": "sR5sDB_9G6uw",
        "outputId": "64c7fb8f-6f19-4a0d-b3be-c3c20d629242"
      },
      "source": [
        "Data_train"
      ],
      "execution_count": null,
      "outputs": [
        {
          "output_type": "execute_result",
          "data": {
            "text/html": [
              "<div>\n",
              "<style scoped>\n",
              "    .dataframe tbody tr th:only-of-type {\n",
              "        vertical-align: middle;\n",
              "    }\n",
              "\n",
              "    .dataframe tbody tr th {\n",
              "        vertical-align: top;\n",
              "    }\n",
              "\n",
              "    .dataframe thead th {\n",
              "        text-align: right;\n",
              "    }\n",
              "</style>\n",
              "<table border=\"1\" class=\"dataframe\">\n",
              "  <thead>\n",
              "    <tr style=\"text-align: right;\">\n",
              "      <th></th>\n",
              "      <th>tweet</th>\n",
              "      <th>labels</th>\n",
              "    </tr>\n",
              "  </thead>\n",
              "  <tbody>\n",
              "    <tr>\n",
              "      <th>0</th>\n",
              "      <td>the cdc currently reports 99031 deaths . in ge...</td>\n",
              "      <td>0</td>\n",
              "    </tr>\n",
              "    <tr>\n",
              "      <th>1</th>\n",
              "      <td>states reported 1121 deaths a small rise from ...</td>\n",
              "      <td>0</td>\n",
              "    </tr>\n",
              "    <tr>\n",
              "      <th>2</th>\n",
              "      <td>politically correct woman ( almost ) uses pand...</td>\n",
              "      <td>1</td>\n",
              "    </tr>\n",
              "    <tr>\n",
              "      <th>3</th>\n",
              "      <td>#indiafightscorona : we have 1524 #covid testi...</td>\n",
              "      <td>0</td>\n",
              "    </tr>\n",
              "    <tr>\n",
              "      <th>4</th>\n",
              "      <td>populous states can generate large case counts...</td>\n",
              "      <td>0</td>\n",
              "    </tr>\n",
              "    <tr>\n",
              "      <th>...</th>\n",
              "      <td>...</td>\n",
              "      <td>...</td>\n",
              "    </tr>\n",
              "    <tr>\n",
              "      <th>6415</th>\n",
              "      <td>a tiger tested positive for covid - 19 please ...</td>\n",
              "      <td>1</td>\n",
              "    </tr>\n",
              "    <tr>\n",
              "      <th>6416</th>\n",
              "      <td>? ? ? autopsies prove that covid - 19 is ? ? �...</td>\n",
              "      <td>1</td>\n",
              "    </tr>\n",
              "    <tr>\n",
              "      <th>6417</th>\n",
              "      <td>_a post claims a covid - 19 vaccine has alread...</td>\n",
              "      <td>1</td>\n",
              "    </tr>\n",
              "    <tr>\n",
              "      <th>6418</th>\n",
              "      <td>aamir khan donate 250 cr . in pm relief cares ...</td>\n",
              "      <td>1</td>\n",
              "    </tr>\n",
              "    <tr>\n",
              "      <th>6419</th>\n",
              "      <td>it has been 93 days since the last case of cov...</td>\n",
              "      <td>0</td>\n",
              "    </tr>\n",
              "  </tbody>\n",
              "</table>\n",
              "<p>6420 rows × 2 columns</p>\n",
              "</div>"
            ],
            "text/plain": [
              "                                                  tweet labels\n",
              "0     the cdc currently reports 99031 deaths . in ge...      0\n",
              "1     states reported 1121 deaths a small rise from ...      0\n",
              "2     politically correct woman ( almost ) uses pand...      1\n",
              "3     #indiafightscorona : we have 1524 #covid testi...      0\n",
              "4     populous states can generate large case counts...      0\n",
              "...                                                 ...    ...\n",
              "6415  a tiger tested positive for covid - 19 please ...      1\n",
              "6416  ? ? ? autopsies prove that covid - 19 is ? ? �...      1\n",
              "6417  _a post claims a covid - 19 vaccine has alread...      1\n",
              "6418  aamir khan donate 250 cr . in pm relief cares ...      1\n",
              "6419  it has been 93 days since the last case of cov...      0\n",
              "\n",
              "[6420 rows x 2 columns]"
            ]
          },
          "metadata": {
            "tags": []
          },
          "execution_count": 17
        }
      ]
    },
    {
      "cell_type": "markdown",
      "metadata": {
        "id": "KmKklzpJEV1b"
      },
      "source": [
        "** Train dữ liệu** + **Lemmatization** + **stopword**"
      ]
    },
    {
      "cell_type": "code",
      "metadata": {
        "id": "axj46typFXdR"
      },
      "source": [
        "STOPWORDS = set(stopwords.words('english'))\n",
        "lemmatizer = WordNetLemmatizer()\n",
        "def pre_Process_LS(text):\n",
        "  text= \" \".join([word for word in str(text).split() if word not in STOPWORDS])\n",
        "  text= \" \".join([lemmatizer.lemmatize(word) for word in text.split()])\n",
        "  return text"
      ],
      "execution_count": null,
      "outputs": []
    },
    {
      "cell_type": "code",
      "metadata": {
        "id": "c5yzcTVGFziG"
      },
      "source": [
        "Data_train_3.loc[:,\"tweet\"] = Data_train_3[\"tweet\"].apply(lambda X_train: pre_Process_LS(X_train))\n",
        "Data_test_3.loc[:,\"tweet\"] = Data_test_3[\"tweet\"].apply(lambda X_train: pre_Process_LS(X_train))"
      ],
      "execution_count": null,
      "outputs": []
    },
    {
      "cell_type": "code",
      "metadata": {
        "id": "GtvFfKYwjqcY"
      },
      "source": [
        "Data_train_3 = Data_train_3.apply(lambda X_train: X_train.astype(str).str.lower())\n",
        "Data_test_3 = Data_test_3.apply(lambda X_train: X_train.astype(str).str.lower())"
      ],
      "execution_count": null,
      "outputs": []
    },
    {
      "cell_type": "code",
      "metadata": {
        "colab": {
          "base_uri": "https://localhost:8080/",
          "height": 419
        },
        "id": "9Ubs7k7xGgJY",
        "outputId": "f2abfd6d-08cc-439c-91e3-8bd601f42cce"
      },
      "source": [
        "Data_train_3"
      ],
      "execution_count": null,
      "outputs": [
        {
          "output_type": "execute_result",
          "data": {
            "text/html": [
              "<div>\n",
              "<style scoped>\n",
              "    .dataframe tbody tr th:only-of-type {\n",
              "        vertical-align: middle;\n",
              "    }\n",
              "\n",
              "    .dataframe tbody tr th {\n",
              "        vertical-align: top;\n",
              "    }\n",
              "\n",
              "    .dataframe thead th {\n",
              "        text-align: right;\n",
              "    }\n",
              "</style>\n",
              "<table border=\"1\" class=\"dataframe\">\n",
              "  <thead>\n",
              "    <tr style=\"text-align: right;\">\n",
              "      <th></th>\n",
              "      <th>tweet</th>\n",
              "      <th>labels</th>\n",
              "    </tr>\n",
              "  </thead>\n",
              "  <tbody>\n",
              "    <tr>\n",
              "      <th>0</th>\n",
              "      <td>cdc currently report 99031 death . general dis...</td>\n",
              "      <td>0</td>\n",
              "    </tr>\n",
              "    <tr>\n",
              "      <th>1</th>\n",
              "      <td>state reported 1121 death small rise last tues...</td>\n",
              "      <td>0</td>\n",
              "    </tr>\n",
              "    <tr>\n",
              "      <th>2</th>\n",
              "      <td>politically correct woman ( almost ) us pandem...</td>\n",
              "      <td>1</td>\n",
              "    </tr>\n",
              "    <tr>\n",
              "      <th>3</th>\n",
              "      <td>#indiafightscorona : 1524 #covid testing labor...</td>\n",
              "      <td>0</td>\n",
              "    </tr>\n",
              "    <tr>\n",
              "      <th>4</th>\n",
              "      <td>populous state generate large case count look ...</td>\n",
              "      <td>0</td>\n",
              "    </tr>\n",
              "    <tr>\n",
              "      <th>...</th>\n",
              "      <td>...</td>\n",
              "      <td>...</td>\n",
              "    </tr>\n",
              "    <tr>\n",
              "      <th>6415</th>\n",
              "      <td>tiger tested positive covid - 19 please stay a...</td>\n",
              "      <td>1</td>\n",
              "    </tr>\n",
              "    <tr>\n",
              "      <th>6416</th>\n",
              "      <td>? ? ? autopsy prove covid - 19 ? ? � blood clo...</td>\n",
              "      <td>1</td>\n",
              "    </tr>\n",
              "    <tr>\n",
              "      <th>6417</th>\n",
              "      <td>_a post claim covid - 19 vaccine already devel...</td>\n",
              "      <td>1</td>\n",
              "    </tr>\n",
              "    <tr>\n",
              "      <th>6418</th>\n",
              "      <td>aamir khan donate 250 cr . pm relief care fund</td>\n",
              "      <td>1</td>\n",
              "    </tr>\n",
              "    <tr>\n",
              "      <th>6419</th>\n",
              "      <td>93 day since last case covid - 19 acquired loc...</td>\n",
              "      <td>0</td>\n",
              "    </tr>\n",
              "  </tbody>\n",
              "</table>\n",
              "<p>6420 rows × 2 columns</p>\n",
              "</div>"
            ],
            "text/plain": [
              "                                                  tweet labels\n",
              "0     cdc currently report 99031 death . general dis...      0\n",
              "1     state reported 1121 death small rise last tues...      0\n",
              "2     politically correct woman ( almost ) us pandem...      1\n",
              "3     #indiafightscorona : 1524 #covid testing labor...      0\n",
              "4     populous state generate large case count look ...      0\n",
              "...                                                 ...    ...\n",
              "6415  tiger tested positive covid - 19 please stay a...      1\n",
              "6416  ? ? ? autopsy prove covid - 19 ? ? � blood clo...      1\n",
              "6417  _a post claim covid - 19 vaccine already devel...      1\n",
              "6418     aamir khan donate 250 cr . pm relief care fund      1\n",
              "6419  93 day since last case covid - 19 acquired loc...      0\n",
              "\n",
              "[6420 rows x 2 columns]"
            ]
          },
          "metadata": {
            "tags": []
          },
          "execution_count": 25
        }
      ]
    },
    {
      "cell_type": "code",
      "metadata": {
        "id": "pa8e2-uTkIMK"
      },
      "source": [
        "X_train_3=Data_train_3.iloc[:,0].values\n",
        "Y_train_3=Data_train_3.iloc[:,1].values"
      ],
      "execution_count": null,
      "outputs": []
    },
    {
      "cell_type": "code",
      "metadata": {
        "id": "I-hzhXE5kK1e"
      },
      "source": [
        "X_test_3=Data_test_3.iloc[:,0].values\n",
        "Y_test_3=Data_test_3.iloc[:,1].values"
      ],
      "execution_count": null,
      "outputs": []
    },
    {
      "cell_type": "code",
      "metadata": {
        "id": "LTBo7X7gkNXt"
      },
      "source": [
        "TF_IDF_vectorizer = TfidfVectorizer()"
      ],
      "execution_count": null,
      "outputs": []
    },
    {
      "cell_type": "code",
      "metadata": {
        "id": "D8fBzfsgkQWa"
      },
      "source": [
        "X_train_3 = TF_IDF_vectorizer.fit_transform(X_train_3).toarray()\n",
        "X_test_3 = TF_IDF_vectorizer.transform(X_test_3).toarray()"
      ],
      "execution_count": null,
      "outputs": []
    },
    {
      "cell_type": "code",
      "metadata": {
        "id": "dqwklh-CkTOY"
      },
      "source": [
        "def Evaluation_metrics(Y_test, Y_Pred):\n",
        "  print('accuracy ',accuracy_score(Y_test,Y_Pred))\n",
        "  print('precision ', precision_score(Y_test,Y_Pred,average= 'weighted'))\n",
        "  print('recall ', recall_score(Y_test,Y_Pred,average= 'weighted'))\n",
        "  print(\"f1\", f1_score(Y_test,Y_Pred, average= 'weighted'))\n",
        "  #print(classification_report(Y_test, Y_Pred, target_names = [\"FAKE\",\"REAL\"]))\n",
        "  #confusion_matrix(Y_test,Y_Pred, labels=[0,1])\n",
        "  cm = confusion_matrix(Y_test,Y_Pred)\n",
        "  print(cm)"
      ],
      "execution_count": null,
      "outputs": []
    },
    {
      "cell_type": "code",
      "metadata": {
        "colab": {
          "base_uri": "https://localhost:8080/"
        },
        "id": "KOY9rdzjkWAg",
        "outputId": "621aa762-49bb-4303-9289-8939424cef1e"
      },
      "source": [
        "kf=KFold(n_splits=5, random_state=0, shuffle=False)\n",
        "for train_index, test_index in kf.split(X_train_3):\n",
        "  print(\"TRAIN:\", train_index, \"TEST:\", test_index)\n",
        "  x_train, x_test = X_train_3[train_index], X_train_3[test_index]\n",
        "  y_train, y_test = Y_train_3[train_index], Y_train_3[test_index]\n",
        "  y_test = y_test.reshape(-1,1)\n",
        "  y_train = y_train.reshape(-1,1)\n",
        "  classsifier_NB =GaussianNB()\n",
        "  classsifier_NB.fit(x_train, y_train)\n",
        "  Y_pred_3 = classsifier_NB.predict(x_test)\n",
        "  Y_pred_3 = Y_pred_3.reshape(-1,1)\n",
        "  #cm = confusion_matrix(y_test,Y_pred_1)\n",
        "  #print(cm)\n",
        "  #print (Y_pred_1.shape)\n",
        "  #print (y_test.shape)\n",
        "  Evaluation_metrics(y_test, Y_pred_3)"
      ],
      "execution_count": null,
      "outputs": [
        {
          "output_type": "stream",
          "text": [
            "/usr/local/lib/python3.6/dist-packages/sklearn/model_selection/_split.py:296: FutureWarning: Setting a random_state has no effect since shuffle is False. This will raise an error in 0.24. You should leave random_state to its default (None), or set shuffle=True.\n",
            "  FutureWarning\n",
            "/usr/local/lib/python3.6/dist-packages/sklearn/naive_bayes.py:206: DataConversionWarning: A column-vector y was passed when a 1d array was expected. Please change the shape of y to (n_samples, ), for example using ravel().\n",
            "  y = column_or_1d(y, warn=True)\n"
          ],
          "name": "stderr"
        },
        {
          "output_type": "stream",
          "text": [
            "TRAIN: [1284 1285 1286 ... 6417 6418 6419] TEST: [   0    1    2 ... 1281 1282 1283]\n",
            "accuracy  0.8247663551401869\n",
            "precision  0.8300082830169653\n",
            "recall  0.8247663551401869\n",
            "f1 0.822898889228164\n",
            "[[622  66]\n",
            " [159 437]]\n",
            "TRAIN: [   0    1    2 ... 6417 6418 6419] TEST: [1284 1285 1286 ... 2565 2566 2567]\n"
          ],
          "name": "stdout"
        },
        {
          "output_type": "stream",
          "text": [
            "/usr/local/lib/python3.6/dist-packages/sklearn/naive_bayes.py:206: DataConversionWarning: A column-vector y was passed when a 1d array was expected. Please change the shape of y to (n_samples, ), for example using ravel().\n",
            "  y = column_or_1d(y, warn=True)\n"
          ],
          "name": "stderr"
        },
        {
          "output_type": "stream",
          "text": [
            "accuracy  0.8489096573208723\n",
            "precision  0.8500756571369819\n",
            "recall  0.8489096573208723\n",
            "f1 0.8482863963017276\n",
            "[[615  73]\n",
            " [121 475]]\n",
            "TRAIN: [   0    1    2 ... 6417 6418 6419] TEST: [2568 2569 2570 ... 3849 3850 3851]\n"
          ],
          "name": "stdout"
        },
        {
          "output_type": "stream",
          "text": [
            "/usr/local/lib/python3.6/dist-packages/sklearn/naive_bayes.py:206: DataConversionWarning: A column-vector y was passed when a 1d array was expected. Please change the shape of y to (n_samples, ), for example using ravel().\n",
            "  y = column_or_1d(y, warn=True)\n"
          ],
          "name": "stderr"
        },
        {
          "output_type": "stream",
          "text": [
            "accuracy  0.8341121495327103\n",
            "precision  0.840389887082625\n",
            "recall  0.8341121495327103\n",
            "f1 0.8331655248275007\n",
            "[[588  62]\n",
            " [151 483]]\n",
            "TRAIN: [   0    1    2 ... 6417 6418 6419] TEST: [3852 3853 3854 ... 5133 5134 5135]\n"
          ],
          "name": "stdout"
        },
        {
          "output_type": "stream",
          "text": [
            "/usr/local/lib/python3.6/dist-packages/sklearn/naive_bayes.py:206: DataConversionWarning: A column-vector y was passed when a 1d array was expected. Please change the shape of y to (n_samples, ), for example using ravel().\n",
            "  y = column_or_1d(y, warn=True)\n"
          ],
          "name": "stderr"
        },
        {
          "output_type": "stream",
          "text": [
            "accuracy  0.8652647975077882\n",
            "precision  0.8666223809193965\n",
            "recall  0.8652647975077882\n",
            "f1 0.8648685433994194\n",
            "[[609  64]\n",
            " [109 502]]\n",
            "TRAIN: [   0    1    2 ... 5133 5134 5135] TEST: [5136 5137 5138 ... 6417 6418 6419]\n"
          ],
          "name": "stdout"
        },
        {
          "output_type": "stream",
          "text": [
            "/usr/local/lib/python3.6/dist-packages/sklearn/naive_bayes.py:206: DataConversionWarning: A column-vector y was passed when a 1d array was expected. Please change the shape of y to (n_samples, ), for example using ravel().\n",
            "  y = column_or_1d(y, warn=True)\n"
          ],
          "name": "stderr"
        },
        {
          "output_type": "stream",
          "text": [
            "accuracy  0.8255451713395638\n",
            "precision  0.8305721709347125\n",
            "recall  0.8255451713395638\n",
            "f1 0.8244508857941436\n",
            "[[591  70]\n",
            " [154 469]]\n"
          ],
          "name": "stdout"
        }
      ]
    },
    {
      "cell_type": "code",
      "metadata": {
        "colab": {
          "base_uri": "https://localhost:8080/",
          "height": 419
        },
        "id": "VHeHmEslqEJz",
        "outputId": "2a5d7c69-ac3d-45d6-f54c-a900f5cfd7a2"
      },
      "source": [
        "Data_test_3"
      ],
      "execution_count": null,
      "outputs": [
        {
          "output_type": "execute_result",
          "data": {
            "text/html": [
              "<div>\n",
              "<style scoped>\n",
              "    .dataframe tbody tr th:only-of-type {\n",
              "        vertical-align: middle;\n",
              "    }\n",
              "\n",
              "    .dataframe tbody tr th {\n",
              "        vertical-align: top;\n",
              "    }\n",
              "\n",
              "    .dataframe thead th {\n",
              "        text-align: right;\n",
              "    }\n",
              "</style>\n",
              "<table border=\"1\" class=\"dataframe\">\n",
              "  <thead>\n",
              "    <tr style=\"text-align: right;\">\n",
              "      <th></th>\n",
              "      <th>tweet</th>\n",
              "      <th>labels</th>\n",
              "    </tr>\n",
              "  </thead>\n",
              "  <tbody>\n",
              "    <tr>\n",
              "      <th>0</th>\n",
              "      <td>chinese converting islam realising muslim affe...</td>\n",
              "      <td>1</td>\n",
              "    </tr>\n",
              "    <tr>\n",
              "      <th>1</th>\n",
              "      <td>11 13 people ( diamond princess cruise ship ) ...</td>\n",
              "      <td>1</td>\n",
              "    </tr>\n",
              "    <tr>\n",
              "      <th>2</th>\n",
              "      <td>covid - 19 caused bacterium , virus treated as...</td>\n",
              "      <td>1</td>\n",
              "    </tr>\n",
              "    <tr>\n",
              "      <th>3</th>\n",
              "      <td>mike penny rnc speech praise donald trump 's c...</td>\n",
              "      <td>1</td>\n",
              "    </tr>\n",
              "    <tr>\n",
              "      <th>4</th>\n",
              "      <td>6/10 sky 's @user explains latest #covid19 dat...</td>\n",
              "      <td>0</td>\n",
              "    </tr>\n",
              "    <tr>\n",
              "      <th>...</th>\n",
              "      <td>...</td>\n",
              "      <td>...</td>\n",
              "    </tr>\n",
              "    <tr>\n",
              "      <th>2135</th>\n",
              "      <td>donald trump wrongly claimed new zealand “ big...</td>\n",
              "      <td>1</td>\n",
              "    </tr>\n",
              "    <tr>\n",
              "      <th>2136</th>\n",
              "      <td>current understanding #covid19 spread mostly p...</td>\n",
              "      <td>0</td>\n",
              "    </tr>\n",
              "    <tr>\n",
              "      <th>2137</th>\n",
              "      <td>nothing scream “ sat around fuck lockdown ” qu...</td>\n",
              "      <td>1</td>\n",
              "    </tr>\n",
              "    <tr>\n",
              "      <th>2138</th>\n",
              "      <td>birx say covid - 19 outbreak control ‘ people ...</td>\n",
              "      <td>1</td>\n",
              "    </tr>\n",
              "    <tr>\n",
              "      <th>2139</th>\n",
              "      <td>another 4422 new coronavirus case confirmed uk...</td>\n",
              "      <td>0</td>\n",
              "    </tr>\n",
              "  </tbody>\n",
              "</table>\n",
              "<p>2140 rows × 2 columns</p>\n",
              "</div>"
            ],
            "text/plain": [
              "                                                  tweet labels\n",
              "0     chinese converting islam realising muslim affe...      1\n",
              "1     11 13 people ( diamond princess cruise ship ) ...      1\n",
              "2     covid - 19 caused bacterium , virus treated as...      1\n",
              "3     mike penny rnc speech praise donald trump 's c...      1\n",
              "4     6/10 sky 's @user explains latest #covid19 dat...      0\n",
              "...                                                 ...    ...\n",
              "2135  donald trump wrongly claimed new zealand “ big...      1\n",
              "2136  current understanding #covid19 spread mostly p...      0\n",
              "2137  nothing scream “ sat around fuck lockdown ” qu...      1\n",
              "2138  birx say covid - 19 outbreak control ‘ people ...      1\n",
              "2139  another 4422 new coronavirus case confirmed uk...      0\n",
              "\n",
              "[2140 rows x 2 columns]"
            ]
          },
          "metadata": {
            "tags": []
          },
          "execution_count": 32
        }
      ]
    },
    {
      "cell_type": "code",
      "metadata": {
        "id": "XFFoNW3LlyYp"
      },
      "source": [
        "y_pred = classsifier_NB.predict(X_test_3)"
      ],
      "execution_count": null,
      "outputs": []
    },
    {
      "cell_type": "code",
      "metadata": {
        "id": "4M_mnQ8Grlf3"
      },
      "source": [
        "y_pred = y_pred.reshape(-1,1)"
      ],
      "execution_count": null,
      "outputs": []
    },
    {
      "cell_type": "code",
      "metadata": {
        "id": "LKr7Aj89rrgf"
      },
      "source": [
        "Y_test_3=Y_test_3.reshape(-1,1)"
      ],
      "execution_count": null,
      "outputs": []
    },
    {
      "cell_type": "code",
      "metadata": {
        "colab": {
          "base_uri": "https://localhost:8080/"
        },
        "id": "I6c1vBKCqacY",
        "outputId": "0ed69d34-9295-484a-9cae-1540b4e42029"
      },
      "source": [
        "print(y_pred.shape)"
      ],
      "execution_count": null,
      "outputs": [
        {
          "output_type": "stream",
          "text": [
            "(2140, 1)\n"
          ],
          "name": "stdout"
        }
      ]
    },
    {
      "cell_type": "code",
      "metadata": {
        "colab": {
          "base_uri": "https://localhost:8080/"
        },
        "id": "M3ufRO8tqirt",
        "outputId": "d85ff918-9e43-4f85-e85d-eb1f4459ac8c"
      },
      "source": [
        "print(Y_test_3.shape)"
      ],
      "execution_count": null,
      "outputs": [
        {
          "output_type": "stream",
          "text": [
            "(2140, 1)\n"
          ],
          "name": "stdout"
        }
      ]
    },
    {
      "cell_type": "code",
      "metadata": {
        "colab": {
          "base_uri": "https://localhost:8080/"
        },
        "id": "IHxLOjnel3aw",
        "outputId": "313f4020-6a89-42fd-e604-23e0515f9a17"
      },
      "source": [
        "Evaluation_metrics(Y_test_3, y_pred)"
      ],
      "execution_count": null,
      "outputs": [
        {
          "output_type": "stream",
          "text": [
            "accuracy  0.8345794392523365\n",
            "precision  0.8370398956083542\n",
            "recall  0.8345794392523365\n",
            "f1 0.8338060644196306\n",
            "[[995 125]\n",
            " [229 791]]\n"
          ],
          "name": "stdout"
        }
      ]
    },
    {
      "cell_type": "markdown",
      "metadata": {
        "id": "1EGkWK-UijDL"
      },
      "source": [
        "Logistic"
      ]
    },
    {
      "cell_type": "code",
      "metadata": {
        "colab": {
          "base_uri": "https://localhost:8080/"
        },
        "id": "Op1_-og1ikUX",
        "outputId": "4e75085d-8791-4728-ae31-01177376f373"
      },
      "source": [
        "kf=KFold(n_splits=5, random_state=0, shuffle=False)\n",
        "for train_index, test_index in kf.split(X_train_3):\n",
        "  print(\"TRAIN:\", train_index, \"TEST:\", test_index)\n",
        "  x_train, x_test = X_train_3[train_index], X_train_3[test_index]\n",
        "  y_train, y_test = Y_train_3[train_index], Y_train_3[test_index]\n",
        "  y_test = y_test.reshape(-1,1)\n",
        "  y_train = y_train.reshape(-1,1)\n",
        "  classifier_LR_Val =LogisticRegression()\n",
        "  classifier_LR_Val.fit(x_train, y_train)\n",
        "  Y_pred = classifier_LR_Val.predict(x_test)\n",
        "  Y_pred = Y_pred.reshape(-1,1)\n",
        "  cm = confusion_matrix(y_test,Y_pred)\n",
        "  print(cm)\n",
        "  print (Y_pred.shape)\n",
        "  print (y_test.shape)\n",
        "  Evaluation_metrics(y_test, Y_pred)"
      ],
      "execution_count": null,
      "outputs": [
        {
          "output_type": "stream",
          "text": [
            "/usr/local/lib/python3.6/dist-packages/sklearn/model_selection/_split.py:296: FutureWarning: Setting a random_state has no effect since shuffle is False. This will raise an error in 0.24. You should leave random_state to its default (None), or set shuffle=True.\n",
            "  FutureWarning\n",
            "/usr/local/lib/python3.6/dist-packages/sklearn/utils/validation.py:760: DataConversionWarning: A column-vector y was passed when a 1d array was expected. Please change the shape of y to (n_samples, ), for example using ravel().\n",
            "  y = column_or_1d(y, warn=True)\n"
          ],
          "name": "stderr"
        },
        {
          "output_type": "stream",
          "text": [
            "TRAIN: [1284 1285 1286 ... 6417 6418 6419] TEST: [   0    1    2 ... 1281 1282 1283]\n",
            "[[626  62]\n",
            " [ 27 569]]\n",
            "(1284, 1)\n",
            "(1284, 1)\n",
            "accuracy  0.9306853582554517\n",
            "precision  0.9322366190148182\n",
            "recall  0.9306853582554517\n",
            "f1 0.9307693999000298\n",
            "[[626  62]\n",
            " [ 27 569]]\n",
            "TRAIN: [   0    1    2 ... 6417 6418 6419] TEST: [1284 1285 1286 ... 2565 2566 2567]\n"
          ],
          "name": "stdout"
        },
        {
          "output_type": "stream",
          "text": [
            "/usr/local/lib/python3.6/dist-packages/sklearn/utils/validation.py:760: DataConversionWarning: A column-vector y was passed when a 1d array was expected. Please change the shape of y to (n_samples, ), for example using ravel().\n",
            "  y = column_or_1d(y, warn=True)\n"
          ],
          "name": "stderr"
        },
        {
          "output_type": "stream",
          "text": [
            "[[638  50]\n",
            " [ 47 549]]\n",
            "(1284, 1)\n",
            "(1284, 1)\n",
            "accuracy  0.9244548286604362\n",
            "precision  0.924489546687081\n",
            "recall  0.9244548286604362\n",
            "f1 0.9244671222732058\n",
            "[[638  50]\n",
            " [ 47 549]]\n",
            "TRAIN: [   0    1    2 ... 6417 6418 6419] TEST: [2568 2569 2570 ... 3849 3850 3851]\n"
          ],
          "name": "stdout"
        },
        {
          "output_type": "stream",
          "text": [
            "/usr/local/lib/python3.6/dist-packages/sklearn/utils/validation.py:760: DataConversionWarning: A column-vector y was passed when a 1d array was expected. Please change the shape of y to (n_samples, ), for example using ravel().\n",
            "  y = column_or_1d(y, warn=True)\n"
          ],
          "name": "stderr"
        },
        {
          "output_type": "stream",
          "text": [
            "[[601  49]\n",
            " [ 41 593]]\n",
            "(1284, 1)\n",
            "(1284, 1)\n",
            "accuracy  0.9299065420560748\n",
            "precision  0.9299841810541435\n",
            "recall  0.9299065420560748\n",
            "f1 0.9299092631546294\n",
            "[[601  49]\n",
            " [ 41 593]]\n",
            "TRAIN: [   0    1    2 ... 6417 6418 6419] TEST: [3852 3853 3854 ... 5133 5134 5135]\n"
          ],
          "name": "stdout"
        },
        {
          "output_type": "stream",
          "text": [
            "/usr/local/lib/python3.6/dist-packages/sklearn/utils/validation.py:760: DataConversionWarning: A column-vector y was passed when a 1d array was expected. Please change the shape of y to (n_samples, ), for example using ravel().\n",
            "  y = column_or_1d(y, warn=True)\n"
          ],
          "name": "stderr"
        },
        {
          "output_type": "stream",
          "text": [
            "[[623  50]\n",
            " [ 45 566]]\n",
            "(1284, 1)\n",
            "(1284, 1)\n",
            "accuracy  0.92601246105919\n",
            "precision  0.9260662132465255\n",
            "recall  0.92601246105919\n",
            "f1 0.9260252763982507\n",
            "[[623  50]\n",
            " [ 45 566]]\n",
            "TRAIN: [   0    1    2 ... 5133 5134 5135] TEST: [5136 5137 5138 ... 6417 6418 6419]\n"
          ],
          "name": "stdout"
        },
        {
          "output_type": "stream",
          "text": [
            "/usr/local/lib/python3.6/dist-packages/sklearn/utils/validation.py:760: DataConversionWarning: A column-vector y was passed when a 1d array was expected. Please change the shape of y to (n_samples, ), for example using ravel().\n",
            "  y = column_or_1d(y, warn=True)\n"
          ],
          "name": "stderr"
        },
        {
          "output_type": "stream",
          "text": [
            "[[597  64]\n",
            " [ 33 590]]\n",
            "(1284, 1)\n",
            "(1284, 1)\n",
            "accuracy  0.9244548286604362\n",
            "precision  0.9255528268067923\n",
            "recall  0.9244548286604362\n",
            "f1 0.9244647723900095\n",
            "[[597  64]\n",
            " [ 33 590]]\n"
          ],
          "name": "stdout"
        }
      ]
    },
    {
      "cell_type": "code",
      "metadata": {
        "id": "4SH_7Aduopi2"
      },
      "source": [
        "y_pred_LR = classifier_LR_Val.predict(X_test_3)"
      ],
      "execution_count": null,
      "outputs": []
    },
    {
      "cell_type": "code",
      "metadata": {
        "id": "kMiQFMEUo9Ub"
      },
      "source": [
        "y_pred_LR=y_pred_LR.reshape(-1,1)"
      ],
      "execution_count": null,
      "outputs": []
    },
    {
      "cell_type": "code",
      "metadata": {
        "id": "DNfmR2expBv0"
      },
      "source": [
        "Y_test_3=Y_test_3.reshape(-1,1)"
      ],
      "execution_count": null,
      "outputs": []
    },
    {
      "cell_type": "code",
      "metadata": {
        "colab": {
          "base_uri": "https://localhost:8080/"
        },
        "id": "AAPPePL7pLa-",
        "outputId": "0f0bbfe1-1e2c-4d09-89ef-98e542f63082"
      },
      "source": [
        "print(y_pred.shape)\n",
        "print(Y_test_3.shape)"
      ],
      "execution_count": null,
      "outputs": [
        {
          "output_type": "stream",
          "text": [
            "(2140,)\n",
            "(2140, 1)\n"
          ],
          "name": "stdout"
        }
      ]
    },
    {
      "cell_type": "code",
      "metadata": {
        "colab": {
          "base_uri": "https://localhost:8080/"
        },
        "id": "k4V9REJ3oxC5",
        "outputId": "dba3bd51-ba42-45de-b391-1a150ce57e8e"
      },
      "source": [
        "Evaluation_metrics(Y_test_3, y_pred_LR)"
      ],
      "execution_count": null,
      "outputs": [
        {
          "output_type": "stream",
          "text": [
            "accuracy  0.9196261682242991\n",
            "precision  0.9196182807734102\n",
            "recall  0.9196261682242991\n",
            "f1 0.9196149787137852\n",
            "[[1037   83]\n",
            " [  89  931]]\n"
          ],
          "name": "stdout"
        }
      ]
    },
    {
      "cell_type": "markdown",
      "metadata": {
        "id": "NyUEDDeSqChX"
      },
      "source": [
        "SVM"
      ]
    },
    {
      "cell_type": "code",
      "metadata": {
        "colab": {
          "base_uri": "https://localhost:8080/"
        },
        "id": "t4dBuVvMqDRQ",
        "outputId": "a7df2505-c35f-4291-9f78-ed4a82e997d1"
      },
      "source": [
        "kf=KFold(n_splits=5, random_state=0, shuffle=False)\n",
        "for train_index, test_index in kf.split(X_train_3):\n",
        "  print(\"TRAIN:\", train_index, \"TEST:\", test_index)\n",
        "  x_train, x_test = X_train_3[train_index], X_train_3[test_index]\n",
        "  y_train, y_test = Y_train_3[train_index], Y_train_3[test_index]\n",
        "  y_test = y_test.reshape(-1,1)\n",
        "  y_train = y_train.reshape(-1,1)\n",
        "  classifier_SVC = SVC(kernel =\"rbf\")  \n",
        "  classifier_SVC.fit(x_train, y_train)\n",
        "  Y_pred = classifier_SVC.predict(x_test)\n",
        "  Y_pred = Y_pred.reshape(-1,1)\n",
        "  #cm = confusion_matrix(y_test,Y_pred)\n",
        "  #print(cm)\n",
        "  #print (Y_pred.shape)\n",
        "  #print (y_test.shape)\n",
        "  Evaluation_metrics(y_test, Y_pred)"
      ],
      "execution_count": null,
      "outputs": [
        {
          "output_type": "stream",
          "text": [
            "/usr/local/lib/python3.6/dist-packages/sklearn/model_selection/_split.py:296: FutureWarning: Setting a random_state has no effect since shuffle is False. This will raise an error in 0.24. You should leave random_state to its default (None), or set shuffle=True.\n",
            "  FutureWarning\n",
            "/usr/local/lib/python3.6/dist-packages/sklearn/utils/validation.py:760: DataConversionWarning: A column-vector y was passed when a 1d array was expected. Please change the shape of y to (n_samples, ), for example using ravel().\n",
            "  y = column_or_1d(y, warn=True)\n"
          ],
          "name": "stderr"
        },
        {
          "output_type": "stream",
          "text": [
            "TRAIN: [1284 1285 1286 ... 6417 6418 6419] TEST: [   0    1    2 ... 1281 1282 1283]\n",
            "accuracy  0.9431464174454829\n",
            "precision  0.9446860349836608\n",
            "recall  0.9431464174454829\n",
            "f1 0.9432153504797999\n",
            "[[634  54]\n",
            " [ 19 577]]\n",
            "TRAIN: [   0    1    2 ... 6417 6418 6419] TEST: [1284 1285 1286 ... 2565 2566 2567]\n"
          ],
          "name": "stdout"
        },
        {
          "output_type": "stream",
          "text": [
            "/usr/local/lib/python3.6/dist-packages/sklearn/utils/validation.py:760: DataConversionWarning: A column-vector y was passed when a 1d array was expected. Please change the shape of y to (n_samples, ), for example using ravel().\n",
            "  y = column_or_1d(y, warn=True)\n"
          ],
          "name": "stderr"
        },
        {
          "output_type": "stream",
          "text": [
            "accuracy  0.9361370716510904\n",
            "precision  0.9361827075476853\n",
            "recall  0.9361370716510904\n",
            "f1 0.9361507711979149\n",
            "[[645  43]\n",
            " [ 39 557]]\n",
            "TRAIN: [   0    1    2 ... 6417 6418 6419] TEST: [2568 2569 2570 ... 3849 3850 3851]\n"
          ],
          "name": "stdout"
        },
        {
          "output_type": "stream",
          "text": [
            "/usr/local/lib/python3.6/dist-packages/sklearn/utils/validation.py:760: DataConversionWarning: A column-vector y was passed when a 1d array was expected. Please change the shape of y to (n_samples, ), for example using ravel().\n",
            "  y = column_or_1d(y, warn=True)\n"
          ],
          "name": "stderr"
        },
        {
          "output_type": "stream",
          "text": [
            "accuracy  0.9400311526479751\n",
            "precision  0.9403595446620961\n",
            "recall  0.9400311526479751\n",
            "f1 0.9400305342830625\n",
            "[[603  47]\n",
            " [ 30 604]]\n",
            "TRAIN: [   0    1    2 ... 6417 6418 6419] TEST: [3852 3853 3854 ... 5133 5134 5135]\n"
          ],
          "name": "stdout"
        },
        {
          "output_type": "stream",
          "text": [
            "/usr/local/lib/python3.6/dist-packages/sklearn/utils/validation.py:760: DataConversionWarning: A column-vector y was passed when a 1d array was expected. Please change the shape of y to (n_samples, ), for example using ravel().\n",
            "  y = column_or_1d(y, warn=True)\n"
          ],
          "name": "stderr"
        },
        {
          "output_type": "stream",
          "text": [
            "accuracy  0.9400311526479751\n",
            "precision  0.9405024232105601\n",
            "recall  0.9400311526479751\n",
            "f1 0.9400609038867582\n",
            "[[625  48]\n",
            " [ 29 582]]\n",
            "TRAIN: [   0    1    2 ... 5133 5134 5135] TEST: [5136 5137 5138 ... 6417 6418 6419]\n"
          ],
          "name": "stdout"
        },
        {
          "output_type": "stream",
          "text": [
            "/usr/local/lib/python3.6/dist-packages/sklearn/utils/validation.py:760: DataConversionWarning: A column-vector y was passed when a 1d array was expected. Please change the shape of y to (n_samples, ), for example using ravel().\n",
            "  y = column_or_1d(y, warn=True)\n"
          ],
          "name": "stderr"
        },
        {
          "output_type": "stream",
          "text": [
            "accuracy  0.9361370716510904\n",
            "precision  0.9373153214400608\n",
            "recall  0.9361370716510904\n",
            "f1 0.9361445091941523\n",
            "[[604  57]\n",
            " [ 25 598]]\n"
          ],
          "name": "stdout"
        }
      ]
    },
    {
      "cell_type": "code",
      "metadata": {
        "id": "V4XWBnFqqCFC"
      },
      "source": [
        ""
      ],
      "execution_count": null,
      "outputs": []
    }
  ]
}