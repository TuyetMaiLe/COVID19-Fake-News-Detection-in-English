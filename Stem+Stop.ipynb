{
  "nbformat": 4,
  "nbformat_minor": 0,
  "metadata": {
    "colab": {
      "name": "Stem+Stop (1).ipynb",
      "provenance": [],
      "include_colab_link": true
    },
    "kernelspec": {
      "name": "python3",
      "display_name": "Python 3"
    }
  },
  "cells": [
    {
      "cell_type": "markdown",
      "metadata": {
        "id": "view-in-github",
        "colab_type": "text"
      },
      "source": [
        "<a href=\"https://colab.research.google.com/github/TuyetMaiLe/COVID19-Fake-News-Detection-in-English/blob/main/Stem%2BStop.ipynb\" target=\"_parent\"><img src=\"https://colab.research.google.com/assets/colab-badge.svg\" alt=\"Open In Colab\"/></a>"
      ]
    },
    {
      "cell_type": "code",
      "metadata": {
        "colab": {
          "base_uri": "https://localhost:8080/"
        },
        "id": "0UQazJ8rIf4y",
        "outputId": "2cffc353-c4a8-4025-a3a4-1d625d5e3c35"
      },
      "source": [
        "import nltk\n",
        "nltk.download(\"stopwords\")\n",
        "nltk.download('wordnet')\n",
        "!pip install emoji"
      ],
      "execution_count": null,
      "outputs": [
        {
          "output_type": "stream",
          "text": [
            "[nltk_data] Downloading package stopwords to /root/nltk_data...\n",
            "[nltk_data]   Package stopwords is already up-to-date!\n",
            "[nltk_data] Downloading package wordnet to /root/nltk_data...\n",
            "[nltk_data]   Package wordnet is already up-to-date!\n",
            "Requirement already satisfied: emoji in /usr/local/lib/python3.6/dist-packages (0.6.0)\n"
          ],
          "name": "stdout"
        }
      ]
    },
    {
      "cell_type": "code",
      "metadata": {
        "id": "zMrUXLSlIycr"
      },
      "source": [
        "import numpy as np\n",
        "import pandas as pd\n",
        "import re\n",
        "from nltk.stem.porter import PorterStemmer\n",
        "from nltk.corpus import stopwords\n",
        "from sklearn.feature_extraction.text import TfidfVectorizer\n",
        "from sklearn.feature_extraction.text import CountVectorizer\n",
        "from sklearn.linear_model import PassiveAggressiveClassifier\n",
        "from sklearn.metrics import accuracy_score, confusion_matrix\n",
        "from sklearn.metrics import f1_score\n",
        "from sklearn.metrics import recall_score\n",
        "from sklearn.metrics import precision_score\n",
        "from sklearn.metrics import classification_report\n",
        "from sklearn.tree import DecisionTreeClassifier\n",
        "from sklearn.ensemble import RandomForestClassifier\n",
        "from nltk.tokenize import TweetTokenizer \n",
        "from emoji import demojize\n",
        "from sklearn.naive_bayes import GaussianNB\n",
        "from sklearn.linear_model import LogisticRegression\n",
        "from sklearn.model_selection import KFold\n",
        "from sklearn.model_selection import cross_val_score\n",
        "from sklearn.svm import SVC\n",
        "from nltk.stem import WordNetLemmatizer"
      ],
      "execution_count": null,
      "outputs": []
    },
    {
      "cell_type": "code",
      "metadata": {
        "id": "d5rkI0yRI3VB"
      },
      "source": [
        "from sklearn.model_selection import GridSearchCV "
      ],
      "execution_count": null,
      "outputs": []
    },
    {
      "cell_type": "code",
      "metadata": {
        "id": "Z5F3kEMfI7UC"
      },
      "source": [
        "from nltk.corpus import stopwords\n",
        "stop = stopwords.words('english')"
      ],
      "execution_count": null,
      "outputs": []
    },
    {
      "cell_type": "code",
      "metadata": {
        "id": "mr9Qnz-yJCEF"
      },
      "source": [
        "Dataset_train=pd.read_excel(\"/content/Constraint_English_Train.xlsx\")\n",
        "Dataset_test= pd.read_excel(\"/content/Constraint_English_Val.xlsx\")\n",
        "Data_train = Dataset_train.drop('id', 1)\n",
        "Data_test = Dataset_test.drop('id', 1)\n",
        "Data_test_raw = Dataset_test.drop('id', 1)"
      ],
      "execution_count": null,
      "outputs": []
    },
    {
      "cell_type": "code",
      "metadata": {
        "id": "kF8d_Qr7LRn0"
      },
      "source": [
        "Data_train_1=Dataset_train.drop('id', 1)"
      ],
      "execution_count": null,
      "outputs": []
    },
    {
      "cell_type": "code",
      "metadata": {
        "id": "PbMkoDAfLUBH"
      },
      "source": [
        "Data_test_1=Dataset_test.drop('id', 1)"
      ],
      "execution_count": null,
      "outputs": []
    },
    {
      "cell_type": "code",
      "metadata": {
        "id": "Z3bA5_tFLYmg"
      },
      "source": [
        "tokenizer = TweetTokenizer()"
      ],
      "execution_count": null,
      "outputs": []
    },
    {
      "cell_type": "code",
      "metadata": {
        "id": "8pYktM9tLbwG"
      },
      "source": [
        "def normalizeToken(token):\n",
        "    lowercased_token = token.lower()\n",
        "    if token.startswith(\"@\"):\n",
        "        return \"@USER\"\n",
        "    elif lowercased_token.startswith(\"http\") or lowercased_token.startswith(\"www\"):\n",
        "        return \"HTTPURL\"\n",
        "    elif len(token) == 1:\n",
        "        return demojize(token)\n",
        "    else:\n",
        "        if token == \"’\":\n",
        "            return \"'\"\n",
        "        elif token == \"…\":\n",
        "            return \"...\"\n",
        "        else:\n",
        "            return token"
      ],
      "execution_count": null,
      "outputs": []
    },
    {
      "cell_type": "code",
      "metadata": {
        "id": "1-mN_lSTLeie"
      },
      "source": [
        "def normalizeTweet(tweet):\n",
        "    tokens = tokenizer.tokenize(tweet.replace(\"’\", \"'\").replace(\"…\", \"...\"))\n",
        "    normTweet = \" \".join([normalizeToken(token) for token in tokens])\n",
        "\n",
        "    normTweet = normTweet.replace(\"cannot \", \"can not \").replace(\"n't \", \" n't \").replace(\"n 't \", \" n't \").replace(\"ca n't\", \"can't\").replace(\"ai n't\", \"ain't\")\n",
        "    normTweet = normTweet.replace(\"'m \", \" 'm \").replace(\"'re \", \" 're \").replace(\"'s \", \" 's \").replace(\"'ll \", \" 'll \").replace(\"'d \", \" 'd \").replace(\"'ve \", \" 've \")\n",
        "    normTweet = normTweet.replace(\" p . m .\", \"  p.m.\") .replace(\" p . m \", \" p.m \").replace(\" a . m .\", \" a.m.\").replace(\" a . m \", \" a.m \")\n",
        "\n",
        "    normTweet = re.sub(r\",([0-9]{2,4}) , ([0-9]{2,4})\", r\",\\1,\\2\", normTweet)\n",
        "    normTweet = re.sub(r\"([0-9]{1,3}) / ([0-9]{2,4})\", r\"\\1/\\2\", normTweet)\n",
        "    normTweet = re.sub(r\"([0-9]{1,3})- ([0-9]{2,4})\", r\"\\1-\\2\", normTweet)\n",
        "    \n",
        "    return \" \".join(normTweet.split())"
      ],
      "execution_count": null,
      "outputs": []
    },
    {
      "cell_type": "code",
      "metadata": {
        "id": "5HTfboehLhXJ"
      },
      "source": [
        "Data_train.loc[:,\"tweet\"] = Data_train['tweet'].apply(lambda x: normalizeTweet(x))\n",
        "Data_train.loc[:,\"label\"] = Data_train['label'].apply(lambda x: 1 if x == 'fake' else 0)\n",
        "Data_train.columns = [\"tweet\", \"labels\"]"
      ],
      "execution_count": null,
      "outputs": []
    },
    {
      "cell_type": "code",
      "metadata": {
        "id": "dCfVu8RRLkEk"
      },
      "source": [
        "Data_train_1.loc[:,\"tweet\"] = Data_train_1['tweet'].apply(lambda x: normalizeTweet(x))\n",
        "Data_train_1.loc[:,\"label\"] = Data_train_1['label'].apply(lambda x: 1 if x == 'fake' else 0)\n",
        "Data_train_1.columns = [\"tweet\", \"labels\"]"
      ],
      "execution_count": null,
      "outputs": []
    },
    {
      "cell_type": "code",
      "metadata": {
        "id": "9NFtHLRdLneR"
      },
      "source": [
        "#test đã tiền xử lý\n",
        "Data_test.loc[:,\"tweet\"] = Data_test['tweet'].apply(lambda x: normalizeTweet(x))\n",
        "Data_test.loc[:,\"label\"] = Data_test['label'].apply(lambda x: 1 if x == 'fake' else 0)\n",
        "Data_test.columns = [\"tweet\", \"labels\"]"
      ],
      "execution_count": null,
      "outputs": []
    },
    {
      "cell_type": "code",
      "metadata": {
        "id": "hx7SHq8kLp_Y"
      },
      "source": [
        "Data_test_1.loc[:,\"tweet\"] = Data_test_1['tweet'].apply(lambda x: normalizeTweet(x))\n",
        "Data_test_1.loc[:,\"label\"] = Data_test_1['label'].apply(lambda x: 1 if x == 'fake' else 0)\n",
        "Data_test_1.columns = [\"tweet\", \"labels\"]"
      ],
      "execution_count": null,
      "outputs": []
    },
    {
      "cell_type": "code",
      "metadata": {
        "id": "xulfxn0oLwej"
      },
      "source": [
        "Data_train = Data_train.apply(lambda X_train: X_train.astype(str).str.lower())\n",
        "Data_test = Data_test.apply(lambda X_train: X_train.astype(str).str.lower())"
      ],
      "execution_count": null,
      "outputs": []
    },
    {
      "cell_type": "code",
      "metadata": {
        "colab": {
          "base_uri": "https://localhost:8080/",
          "height": 419
        },
        "id": "iGhBoXUnLy2G",
        "outputId": "e981ec47-11f5-47c5-f9c2-3aa691e234fa"
      },
      "source": [
        "Data_train"
      ],
      "execution_count": null,
      "outputs": [
        {
          "output_type": "execute_result",
          "data": {
            "text/html": [
              "<div>\n",
              "<style scoped>\n",
              "    .dataframe tbody tr th:only-of-type {\n",
              "        vertical-align: middle;\n",
              "    }\n",
              "\n",
              "    .dataframe tbody tr th {\n",
              "        vertical-align: top;\n",
              "    }\n",
              "\n",
              "    .dataframe thead th {\n",
              "        text-align: right;\n",
              "    }\n",
              "</style>\n",
              "<table border=\"1\" class=\"dataframe\">\n",
              "  <thead>\n",
              "    <tr style=\"text-align: right;\">\n",
              "      <th></th>\n",
              "      <th>tweet</th>\n",
              "      <th>labels</th>\n",
              "    </tr>\n",
              "  </thead>\n",
              "  <tbody>\n",
              "    <tr>\n",
              "      <th>0</th>\n",
              "      <td>the cdc currently reports 99031 deaths . in ge...</td>\n",
              "      <td>0</td>\n",
              "    </tr>\n",
              "    <tr>\n",
              "      <th>1</th>\n",
              "      <td>states reported 1121 deaths a small rise from ...</td>\n",
              "      <td>0</td>\n",
              "    </tr>\n",
              "    <tr>\n",
              "      <th>2</th>\n",
              "      <td>politically correct woman ( almost ) uses pand...</td>\n",
              "      <td>1</td>\n",
              "    </tr>\n",
              "    <tr>\n",
              "      <th>3</th>\n",
              "      <td>#indiafightscorona : we have 1524 #covid testi...</td>\n",
              "      <td>0</td>\n",
              "    </tr>\n",
              "    <tr>\n",
              "      <th>4</th>\n",
              "      <td>populous states can generate large case counts...</td>\n",
              "      <td>0</td>\n",
              "    </tr>\n",
              "    <tr>\n",
              "      <th>...</th>\n",
              "      <td>...</td>\n",
              "      <td>...</td>\n",
              "    </tr>\n",
              "    <tr>\n",
              "      <th>6415</th>\n",
              "      <td>a tiger tested positive for covid - 19 please ...</td>\n",
              "      <td>1</td>\n",
              "    </tr>\n",
              "    <tr>\n",
              "      <th>6416</th>\n",
              "      <td>? ? ? autopsies prove that covid - 19 is ? ? �...</td>\n",
              "      <td>1</td>\n",
              "    </tr>\n",
              "    <tr>\n",
              "      <th>6417</th>\n",
              "      <td>_a post claims a covid - 19 vaccine has alread...</td>\n",
              "      <td>1</td>\n",
              "    </tr>\n",
              "    <tr>\n",
              "      <th>6418</th>\n",
              "      <td>aamir khan donate 250 cr . in pm relief cares ...</td>\n",
              "      <td>1</td>\n",
              "    </tr>\n",
              "    <tr>\n",
              "      <th>6419</th>\n",
              "      <td>it has been 93 days since the last case of cov...</td>\n",
              "      <td>0</td>\n",
              "    </tr>\n",
              "  </tbody>\n",
              "</table>\n",
              "<p>6420 rows × 2 columns</p>\n",
              "</div>"
            ],
            "text/plain": [
              "                                                  tweet labels\n",
              "0     the cdc currently reports 99031 deaths . in ge...      0\n",
              "1     states reported 1121 deaths a small rise from ...      0\n",
              "2     politically correct woman ( almost ) uses pand...      1\n",
              "3     #indiafightscorona : we have 1524 #covid testi...      0\n",
              "4     populous states can generate large case counts...      0\n",
              "...                                                 ...    ...\n",
              "6415  a tiger tested positive for covid - 19 please ...      1\n",
              "6416  ? ? ? autopsies prove that covid - 19 is ? ? �...      1\n",
              "6417  _a post claims a covid - 19 vaccine has alread...      1\n",
              "6418  aamir khan donate 250 cr . in pm relief cares ...      1\n",
              "6419  it has been 93 days since the last case of cov...      0\n",
              "\n",
              "[6420 rows x 2 columns]"
            ]
          },
          "metadata": {
            "tags": []
          },
          "execution_count": 94
        }
      ]
    },
    {
      "cell_type": "markdown",
      "metadata": {
        "id": "TkHji-hfL8GZ"
      },
      "source": [
        "\n",
        "** Train dữ liệu** + **stemword** + **stopword**\n"
      ]
    },
    {
      "cell_type": "code",
      "metadata": {
        "id": "NwnpuOX-L_5w"
      },
      "source": [
        "STOPWORDS = set(stopwords.words('english'))\n",
        "stemmer = PorterStemmer()\n",
        "def pre_Process_SS(text):\n",
        "  text= \" \".join([word for word in str(text).split() if word not in STOPWORDS])\n",
        "  text=\" \".join([stemmer.stem(word) for word in text.split()])\n",
        "  return text"
      ],
      "execution_count": null,
      "outputs": []
    },
    {
      "cell_type": "code",
      "metadata": {
        "id": "grP9Y3oyU0Jn"
      },
      "source": [
        "Data_train_1 = Data_train_1.apply(lambda X_train: X_train.astype(str).str.lower())\n",
        "Data_test_1 = Data_test_1.apply(lambda X_train: X_train.astype(str).str.lower())"
      ],
      "execution_count": null,
      "outputs": []
    },
    {
      "cell_type": "code",
      "metadata": {
        "id": "DXJE-9MAMEki"
      },
      "source": [
        "Data_test_1.loc[:,\"tweet\"] = Data_test_1[\"tweet\"].apply(lambda X_train: pre_Process_SS(X_train))\n",
        "Data_train_1.loc[:,\"tweet\"] = Data_train_1[\"tweet\"].apply(lambda X_train: pre_Process_SS(X_train))"
      ],
      "execution_count": null,
      "outputs": []
    },
    {
      "cell_type": "code",
      "metadata": {
        "colab": {
          "base_uri": "https://localhost:8080/",
          "height": 419
        },
        "id": "wJLcGP-eMGvl",
        "outputId": "6157c55d-143d-4afe-baca-d12e6ad0f51b"
      },
      "source": [
        "Data_test_1"
      ],
      "execution_count": null,
      "outputs": [
        {
          "output_type": "execute_result",
          "data": {
            "text/html": [
              "<div>\n",
              "<style scoped>\n",
              "    .dataframe tbody tr th:only-of-type {\n",
              "        vertical-align: middle;\n",
              "    }\n",
              "\n",
              "    .dataframe tbody tr th {\n",
              "        vertical-align: top;\n",
              "    }\n",
              "\n",
              "    .dataframe thead th {\n",
              "        text-align: right;\n",
              "    }\n",
              "</style>\n",
              "<table border=\"1\" class=\"dataframe\">\n",
              "  <thead>\n",
              "    <tr style=\"text-align: right;\">\n",
              "      <th></th>\n",
              "      <th>tweet</th>\n",
              "      <th>labels</th>\n",
              "    </tr>\n",
              "  </thead>\n",
              "  <tbody>\n",
              "    <tr>\n",
              "      <th>0</th>\n",
              "      <td>chines convert islam realis muslim affect #cor...</td>\n",
              "      <td>1</td>\n",
              "    </tr>\n",
              "    <tr>\n",
              "      <th>1</th>\n",
              "      <td>11 13 peopl ( diamond princess cruis ship ) in...</td>\n",
              "      <td>1</td>\n",
              "    </tr>\n",
              "    <tr>\n",
              "      <th>2</th>\n",
              "      <td>covid - 19 caus bacterium , viru treat aspirin</td>\n",
              "      <td>1</td>\n",
              "    </tr>\n",
              "    <tr>\n",
              "      <th>3</th>\n",
              "      <td>mike penc rnc speech prais donald trump 's cov...</td>\n",
              "      <td>1</td>\n",
              "    </tr>\n",
              "    <tr>\n",
              "      <th>4</th>\n",
              "      <td>6/10 sky 's @user explain latest #covid19 data...</td>\n",
              "      <td>0</td>\n",
              "    </tr>\n",
              "    <tr>\n",
              "      <th>...</th>\n",
              "      <td>...</td>\n",
              "      <td>...</td>\n",
              "    </tr>\n",
              "    <tr>\n",
              "      <th>2135</th>\n",
              "      <td>donald trump wrongli claim new zealand “ big s...</td>\n",
              "      <td>1</td>\n",
              "    </tr>\n",
              "    <tr>\n",
              "      <th>2136</th>\n",
              "      <td>current understand #covid19 spread mostli pers...</td>\n",
              "      <td>0</td>\n",
              "    </tr>\n",
              "    <tr>\n",
              "      <th>2137</th>\n",
              "      <td>noth scream “ sat around fuck lockdown ” quit ...</td>\n",
              "      <td>1</td>\n",
              "    </tr>\n",
              "    <tr>\n",
              "      <th>2138</th>\n",
              "      <td>birx say covid - 19 outbreak control ‘ peopl m...</td>\n",
              "      <td>1</td>\n",
              "    </tr>\n",
              "    <tr>\n",
              "      <th>2139</th>\n",
              "      <td>anoth 4422 new coronaviru case confirm uk - hi...</td>\n",
              "      <td>0</td>\n",
              "    </tr>\n",
              "  </tbody>\n",
              "</table>\n",
              "<p>2140 rows × 2 columns</p>\n",
              "</div>"
            ],
            "text/plain": [
              "                                                  tweet labels\n",
              "0     chines convert islam realis muslim affect #cor...      1\n",
              "1     11 13 peopl ( diamond princess cruis ship ) in...      1\n",
              "2        covid - 19 caus bacterium , viru treat aspirin      1\n",
              "3     mike penc rnc speech prais donald trump 's cov...      1\n",
              "4     6/10 sky 's @user explain latest #covid19 data...      0\n",
              "...                                                 ...    ...\n",
              "2135  donald trump wrongli claim new zealand “ big s...      1\n",
              "2136  current understand #covid19 spread mostli pers...      0\n",
              "2137  noth scream “ sat around fuck lockdown ” quit ...      1\n",
              "2138  birx say covid - 19 outbreak control ‘ peopl m...      1\n",
              "2139  anoth 4422 new coronaviru case confirm uk - hi...      0\n",
              "\n",
              "[2140 rows x 2 columns]"
            ]
          },
          "metadata": {
            "tags": []
          },
          "execution_count": 98
        }
      ]
    },
    {
      "cell_type": "code",
      "metadata": {
        "colab": {
          "base_uri": "https://localhost:8080/",
          "height": 419
        },
        "id": "lALd2PucMIxd",
        "outputId": "6a4d95d8-379d-480c-9cdb-a07eb17cdefe"
      },
      "source": [
        "Data_train_1"
      ],
      "execution_count": null,
      "outputs": [
        {
          "output_type": "execute_result",
          "data": {
            "text/html": [
              "<div>\n",
              "<style scoped>\n",
              "    .dataframe tbody tr th:only-of-type {\n",
              "        vertical-align: middle;\n",
              "    }\n",
              "\n",
              "    .dataframe tbody tr th {\n",
              "        vertical-align: top;\n",
              "    }\n",
              "\n",
              "    .dataframe thead th {\n",
              "        text-align: right;\n",
              "    }\n",
              "</style>\n",
              "<table border=\"1\" class=\"dataframe\">\n",
              "  <thead>\n",
              "    <tr style=\"text-align: right;\">\n",
              "      <th></th>\n",
              "      <th>tweet</th>\n",
              "      <th>labels</th>\n",
              "    </tr>\n",
              "  </thead>\n",
              "  <tbody>\n",
              "    <tr>\n",
              "      <th>0</th>\n",
              "      <td>cdc current report 99031 death . gener discrep...</td>\n",
              "      <td>0</td>\n",
              "    </tr>\n",
              "    <tr>\n",
              "      <th>1</th>\n",
              "      <td>state report 1121 death small rise last tuesda...</td>\n",
              "      <td>0</td>\n",
              "    </tr>\n",
              "    <tr>\n",
              "      <th>2</th>\n",
              "      <td>polit correct woman ( almost ) use pandem excu...</td>\n",
              "      <td>1</td>\n",
              "    </tr>\n",
              "    <tr>\n",
              "      <th>3</th>\n",
              "      <td>#indiafightscorona : 1524 #covid test laborato...</td>\n",
              "      <td>0</td>\n",
              "    </tr>\n",
              "    <tr>\n",
              "      <th>4</th>\n",
              "      <td>popul state gener larg case count look new cas...</td>\n",
              "      <td>0</td>\n",
              "    </tr>\n",
              "    <tr>\n",
              "      <th>...</th>\n",
              "      <td>...</td>\n",
              "      <td>...</td>\n",
              "    </tr>\n",
              "    <tr>\n",
              "      <th>6415</th>\n",
              "      <td>tiger test posit covid - 19 pleas stay away pe...</td>\n",
              "      <td>1</td>\n",
              "    </tr>\n",
              "    <tr>\n",
              "      <th>6416</th>\n",
              "      <td>? ? ? autopsi prove covid - 19 ? ? � blood clo...</td>\n",
              "      <td>1</td>\n",
              "    </tr>\n",
              "    <tr>\n",
              "      <th>6417</th>\n",
              "      <td>_a post claim covid - 19 vaccin alreadi develo...</td>\n",
              "      <td>1</td>\n",
              "    </tr>\n",
              "    <tr>\n",
              "      <th>6418</th>\n",
              "      <td>aamir khan donat 250 cr . pm relief care fund</td>\n",
              "      <td>1</td>\n",
              "    </tr>\n",
              "    <tr>\n",
              "      <th>6419</th>\n",
              "      <td>93 day sinc last case covid - 19 acquir local ...</td>\n",
              "      <td>0</td>\n",
              "    </tr>\n",
              "  </tbody>\n",
              "</table>\n",
              "<p>6420 rows × 2 columns</p>\n",
              "</div>"
            ],
            "text/plain": [
              "                                                  tweet labels\n",
              "0     cdc current report 99031 death . gener discrep...      0\n",
              "1     state report 1121 death small rise last tuesda...      0\n",
              "2     polit correct woman ( almost ) use pandem excu...      1\n",
              "3     #indiafightscorona : 1524 #covid test laborato...      0\n",
              "4     popul state gener larg case count look new cas...      0\n",
              "...                                                 ...    ...\n",
              "6415  tiger test posit covid - 19 pleas stay away pe...      1\n",
              "6416  ? ? ? autopsi prove covid - 19 ? ? � blood clo...      1\n",
              "6417  _a post claim covid - 19 vaccin alreadi develo...      1\n",
              "6418      aamir khan donat 250 cr . pm relief care fund      1\n",
              "6419  93 day sinc last case covid - 19 acquir local ...      0\n",
              "\n",
              "[6420 rows x 2 columns]"
            ]
          },
          "metadata": {
            "tags": []
          },
          "execution_count": 99
        }
      ]
    },
    {
      "cell_type": "markdown",
      "metadata": {
        "id": "RjgY4zkCNK8P"
      },
      "source": [
        "**Vecto hoa du lieu**"
      ]
    },
    {
      "cell_type": "code",
      "metadata": {
        "id": "KiOum8iTNPCi"
      },
      "source": [
        "X_train_1=Data_train_1.iloc[:,0].values\n",
        "Y_train_1=Data_train_1.iloc[:,1].values"
      ],
      "execution_count": null,
      "outputs": []
    },
    {
      "cell_type": "code",
      "metadata": {
        "id": "jAlIinirNSFN"
      },
      "source": [
        "X_test_1=Data_test_1.iloc[:,0].values\n",
        "Y_test_1=Data_test_1.iloc[:,1].values"
      ],
      "execution_count": null,
      "outputs": []
    },
    {
      "cell_type": "code",
      "metadata": {
        "id": "wKZiGiI8NUb4"
      },
      "source": [
        "TF_IDF_vectorizer = TfidfVectorizer()"
      ],
      "execution_count": null,
      "outputs": []
    },
    {
      "cell_type": "code",
      "metadata": {
        "id": "pp_G_sXYNXCZ"
      },
      "source": [
        "X_train_1 = TF_IDF_vectorizer.fit_transform(X_train_1).toarray()\n",
        "X_test_1 = TF_IDF_vectorizer.transform(X_test_1).toarray()"
      ],
      "execution_count": null,
      "outputs": []
    },
    {
      "cell_type": "markdown",
      "metadata": {
        "id": "DYJf6Yt7NdYN"
      },
      "source": [
        "**Train** + **Evalute** "
      ]
    },
    {
      "cell_type": "code",
      "metadata": {
        "id": "JEykwPQmNgd0"
      },
      "source": [
        "def Evaluation_metrics(Y_test, Y_Pred):\n",
        "  print('accuracy ',accuracy_score(Y_test,Y_Pred))\n",
        "  print('precision ', precision_score(Y_test,Y_Pred,average= 'weighted'))\n",
        "  print('recall ', recall_score(Y_test,Y_Pred,average= 'weighted'))\n",
        "  print(\"f1\", f1_score(Y_test,Y_Pred, average= 'weighted'))\n",
        "  #print(classification_report(Y_test, Y_Pred, target_names = [\"FAKE\",\"REAL\"]))\n",
        "  #confusion_matrix(Y_test,Y_Pred, labels=[0,1])\n",
        "  cm = confusion_matrix(Y_test,Y_Pred)\n",
        "  print(cm)"
      ],
      "execution_count": null,
      "outputs": []
    },
    {
      "cell_type": "code",
      "metadata": {
        "colab": {
          "base_uri": "https://localhost:8080/"
        },
        "id": "Jz7tXEZINkFa",
        "outputId": "722004df-38b4-4e38-d5d3-800a4c74ed71"
      },
      "source": [
        "kf=KFold(n_splits=5, random_state=0, shuffle=False)\n",
        "for train_index, test_index in kf.split(X_train_1):\n",
        "  print(\"TRAIN:\", train_index, \"TEST:\", test_index)\n",
        "  x_train, x_test = X_train_1[train_index], X_train_1[test_index]\n",
        "  y_train, y_test = Y_train_1[train_index], Y_train_1[test_index]\n",
        "  y_test = y_test.reshape(-1,1)\n",
        "  y_train = y_train.reshape(-1,1)\n",
        "  classsifier_NB =GaussianNB()\n",
        "  classsifier_NB.fit(x_train, y_train)\n",
        "  Y_pred = classsifier_NB.predict(x_test)\n",
        "  Y_pred = Y_pred.reshape(-1,1)\n",
        "  #cm = confusion_matrix(y_test,Y_pred_1)\n",
        "  #print(cm)\n",
        "  #print (Y_pred_1.shape)\n",
        "  #print (y_test.shape)\n",
        "  Evaluation_metrics(y_test, Y_pred)"
      ],
      "execution_count": null,
      "outputs": [
        {
          "output_type": "stream",
          "text": [
            "/usr/local/lib/python3.6/dist-packages/sklearn/model_selection/_split.py:296: FutureWarning: Setting a random_state has no effect since shuffle is False. This will raise an error in 0.24. You should leave random_state to its default (None), or set shuffle=True.\n",
            "  FutureWarning\n"
          ],
          "name": "stderr"
        },
        {
          "output_type": "stream",
          "text": [
            "TRAIN: [1284 1285 1286 ... 6417 6418 6419] TEST: [   0    1    2 ... 1281 1282 1283]\n"
          ],
          "name": "stdout"
        },
        {
          "output_type": "stream",
          "text": [
            "/usr/local/lib/python3.6/dist-packages/sklearn/naive_bayes.py:206: DataConversionWarning: A column-vector y was passed when a 1d array was expected. Please change the shape of y to (n_samples, ), for example using ravel().\n",
            "  y = column_or_1d(y, warn=True)\n"
          ],
          "name": "stderr"
        },
        {
          "output_type": "stream",
          "text": [
            "accuracy  0.8255451713395638\n",
            "precision  0.8306762292743601\n",
            "recall  0.8255451713395638\n",
            "f1 0.8237163557961132\n",
            "[[622  66]\n",
            " [158 438]]\n",
            "TRAIN: [   0    1    2 ... 6417 6418 6419] TEST: [1284 1285 1286 ... 2565 2566 2567]\n"
          ],
          "name": "stdout"
        },
        {
          "output_type": "stream",
          "text": [
            "/usr/local/lib/python3.6/dist-packages/sklearn/naive_bayes.py:206: DataConversionWarning: A column-vector y was passed when a 1d array was expected. Please change the shape of y to (n_samples, ), for example using ravel().\n",
            "  y = column_or_1d(y, warn=True)\n"
          ],
          "name": "stderr"
        },
        {
          "output_type": "stream",
          "text": [
            "accuracy  0.8426791277258567\n",
            "precision  0.8450299042495879\n",
            "recall  0.8426791277258567\n",
            "f1 0.8417121436409565\n",
            "[[619  69]\n",
            " [133 463]]\n",
            "TRAIN: [   0    1    2 ... 6417 6418 6419] TEST: [2568 2569 2570 ... 3849 3850 3851]\n"
          ],
          "name": "stdout"
        },
        {
          "output_type": "stream",
          "text": [
            "/usr/local/lib/python3.6/dist-packages/sklearn/naive_bayes.py:206: DataConversionWarning: A column-vector y was passed when a 1d array was expected. Please change the shape of y to (n_samples, ), for example using ravel().\n",
            "  y = column_or_1d(y, warn=True)\n"
          ],
          "name": "stderr"
        },
        {
          "output_type": "stream",
          "text": [
            "accuracy  0.823208722741433\n",
            "precision  0.8310886597576451\n",
            "recall  0.823208722741433\n",
            "f1 0.8219309339399683\n",
            "[[587  63]\n",
            " [164 470]]\n",
            "TRAIN: [   0    1    2 ... 6417 6418 6419] TEST: [3852 3853 3854 ... 5133 5134 5135]\n"
          ],
          "name": "stdout"
        },
        {
          "output_type": "stream",
          "text": [
            "/usr/local/lib/python3.6/dist-packages/sklearn/naive_bayes.py:206: DataConversionWarning: A column-vector y was passed when a 1d array was expected. Please change the shape of y to (n_samples, ), for example using ravel().\n",
            "  y = column_or_1d(y, warn=True)\n"
          ],
          "name": "stderr"
        },
        {
          "output_type": "stream",
          "text": [
            "accuracy  0.8535825545171339\n",
            "precision  0.856662927235086\n",
            "recall  0.8535825545171339\n",
            "f1 0.852824755216871\n",
            "[[612  61]\n",
            " [127 484]]\n",
            "TRAIN: [   0    1    2 ... 5133 5134 5135] TEST: [5136 5137 5138 ... 6417 6418 6419]\n"
          ],
          "name": "stdout"
        },
        {
          "output_type": "stream",
          "text": [
            "/usr/local/lib/python3.6/dist-packages/sklearn/naive_bayes.py:206: DataConversionWarning: A column-vector y was passed when a 1d array was expected. Please change the shape of y to (n_samples, ), for example using ravel().\n",
            "  y = column_or_1d(y, warn=True)\n"
          ],
          "name": "stderr"
        },
        {
          "output_type": "stream",
          "text": [
            "accuracy  0.8115264797507789\n",
            "precision  0.8187609286080376\n",
            "recall  0.8115264797507789\n",
            "f1 0.8098743561471956\n",
            "[[591  70]\n",
            " [172 451]]\n"
          ],
          "name": "stdout"
        }
      ]
    },
    {
      "cell_type": "code",
      "metadata": {
        "id": "TbxDyFe-Nmht"
      },
      "source": [
        "y_pred = classsifier_NB.predict(X_test_1)"
      ],
      "execution_count": null,
      "outputs": []
    },
    {
      "cell_type": "code",
      "metadata": {
        "id": "7LYwRpx1Pi6E"
      },
      "source": [
        "Y_test_1=Y_test_1.reshape(-1,1)"
      ],
      "execution_count": null,
      "outputs": []
    },
    {
      "cell_type": "code",
      "metadata": {
        "id": "QXyj17AZPpli"
      },
      "source": [
        "y_pred=y_pred.reshape(-1,1)"
      ],
      "execution_count": null,
      "outputs": []
    },
    {
      "cell_type": "code",
      "metadata": {
        "colab": {
          "base_uri": "https://localhost:8080/"
        },
        "id": "uY1xc3UKQH9j",
        "outputId": "587250d6-76ba-4b91-efae-a17abaa02b77"
      },
      "source": [
        "print(Y_test_1.shape)\n",
        "print(y_pred.shape)"
      ],
      "execution_count": null,
      "outputs": [
        {
          "output_type": "stream",
          "text": [
            "(2140, 1)\n",
            "(2140, 1)\n"
          ],
          "name": "stdout"
        }
      ]
    },
    {
      "cell_type": "code",
      "metadata": {
        "colab": {
          "base_uri": "https://localhost:8080/"
        },
        "id": "nQW_PO-GNomV",
        "outputId": "fb3004f5-b475-4208-e196-670a73338f3f"
      },
      "source": [
        "Evaluation_metrics(Y_test_1, y_pred)"
      ],
      "execution_count": null,
      "outputs": [
        {
          "output_type": "stream",
          "text": [
            "accuracy  0.8317757009345794\n",
            "precision  0.8348979917395565\n",
            "recall  0.8317757009345794\n",
            "f1 0.8308458354790645\n",
            "[[998 122]\n",
            " [238 782]]\n"
          ],
          "name": "stdout"
        }
      ]
    },
    {
      "cell_type": "markdown",
      "metadata": {
        "id": "tkk2-mG0YBK4"
      },
      "source": [
        "Logistic regression"
      ]
    },
    {
      "cell_type": "code",
      "metadata": {
        "colab": {
          "base_uri": "https://localhost:8080/"
        },
        "id": "cBXui34LX_8G",
        "outputId": "417bf61c-0f96-4d45-da3c-ea1172772a94"
      },
      "source": [
        "kf=KFold(n_splits=5, random_state=0, shuffle=False)\n",
        "for train_index, test_index in kf.split(X_train_1):\n",
        "  print(\"TRAIN:\", train_index, \"TEST:\", test_index)\n",
        "  x_train, x_test = X_train_1[train_index], X_train_1[test_index]\n",
        "  y_train, y_test = Y_train_1[train_index], Y_train_1[test_index]\n",
        "  y_test = y_test.reshape(-1,1)\n",
        "  y_train = y_train.reshape(-1,1)\n",
        "  classifier_LR_Val =LogisticRegression()\n",
        "  classifier_LR_Val.fit(x_train, y_train)\n",
        "  Y_pred = classifier_LR_Val.predict(x_test)\n",
        "  Y_pred = Y_pred.reshape(-1,1)\n",
        "  cm = confusion_matrix(y_test,Y_pred)\n",
        "  print(cm)\n",
        "  print (Y_pred.shape)\n",
        "  print (y_test.shape)\n",
        "  Evaluation_metrics(y_test, Y_pred)"
      ],
      "execution_count": null,
      "outputs": [
        {
          "output_type": "stream",
          "text": [
            "/usr/local/lib/python3.6/dist-packages/sklearn/model_selection/_split.py:296: FutureWarning: Setting a random_state has no effect since shuffle is False. This will raise an error in 0.24. You should leave random_state to its default (None), or set shuffle=True.\n",
            "  FutureWarning\n"
          ],
          "name": "stderr"
        },
        {
          "output_type": "stream",
          "text": [
            "TRAIN: [1284 1285 1286 ... 6417 6418 6419] TEST: [   0    1    2 ... 1281 1282 1283]\n"
          ],
          "name": "stdout"
        },
        {
          "output_type": "stream",
          "text": [
            "/usr/local/lib/python3.6/dist-packages/sklearn/utils/validation.py:760: DataConversionWarning: A column-vector y was passed when a 1d array was expected. Please change the shape of y to (n_samples, ), for example using ravel().\n",
            "  y = column_or_1d(y, warn=True)\n"
          ],
          "name": "stderr"
        },
        {
          "output_type": "stream",
          "text": [
            "[[622  66]\n",
            " [ 26 570]]\n",
            "(1284, 1)\n",
            "(1284, 1)\n",
            "accuracy  0.9283489096573209\n",
            "precision  0.9303317796920729\n",
            "recall  0.9283489096573209\n",
            "f1 0.9284394555954242\n",
            "[[622  66]\n",
            " [ 26 570]]\n",
            "TRAIN: [   0    1    2 ... 6417 6418 6419] TEST: [1284 1285 1286 ... 2565 2566 2567]\n"
          ],
          "name": "stdout"
        },
        {
          "output_type": "stream",
          "text": [
            "/usr/local/lib/python3.6/dist-packages/sklearn/utils/validation.py:760: DataConversionWarning: A column-vector y was passed when a 1d array was expected. Please change the shape of y to (n_samples, ), for example using ravel().\n",
            "  y = column_or_1d(y, warn=True)\n"
          ],
          "name": "stderr"
        },
        {
          "output_type": "stream",
          "text": [
            "[[634  54]\n",
            " [ 50 546]]\n",
            "(1284, 1)\n",
            "(1284, 1)\n",
            "accuracy  0.9190031152647975\n",
            "precision  0.9190557650616678\n",
            "recall  0.9190031152647975\n",
            "f1 0.9190204902997944\n",
            "[[634  54]\n",
            " [ 50 546]]\n",
            "TRAIN: [   0    1    2 ... 6417 6418 6419] TEST: [2568 2569 2570 ... 3849 3850 3851]\n"
          ],
          "name": "stdout"
        },
        {
          "output_type": "stream",
          "text": [
            "/usr/local/lib/python3.6/dist-packages/sklearn/utils/validation.py:760: DataConversionWarning: A column-vector y was passed when a 1d array was expected. Please change the shape of y to (n_samples, ), for example using ravel().\n",
            "  y = column_or_1d(y, warn=True)\n"
          ],
          "name": "stderr"
        },
        {
          "output_type": "stream",
          "text": [
            "[[601  49]\n",
            " [ 46 588]]\n",
            "(1284, 1)\n",
            "(1284, 1)\n",
            "accuracy  0.92601246105919\n",
            "precision  0.9260260725181496\n",
            "recall  0.92601246105919\n",
            "f1 0.9260142114606302\n",
            "[[601  49]\n",
            " [ 46 588]]\n",
            "TRAIN: [   0    1    2 ... 6417 6418 6419] TEST: [3852 3853 3854 ... 5133 5134 5135]\n"
          ],
          "name": "stdout"
        },
        {
          "output_type": "stream",
          "text": [
            "/usr/local/lib/python3.6/dist-packages/sklearn/utils/validation.py:760: DataConversionWarning: A column-vector y was passed when a 1d array was expected. Please change the shape of y to (n_samples, ), for example using ravel().\n",
            "  y = column_or_1d(y, warn=True)\n"
          ],
          "name": "stderr"
        },
        {
          "output_type": "stream",
          "text": [
            "[[619  54]\n",
            " [ 42 569]]\n",
            "(1284, 1)\n",
            "(1284, 1)\n",
            "accuracy  0.9252336448598131\n",
            "precision  0.9254498810916326\n",
            "recall  0.9252336448598131\n",
            "f1 0.9252608961124793\n",
            "[[619  54]\n",
            " [ 42 569]]\n",
            "TRAIN: [   0    1    2 ... 5133 5134 5135] TEST: [5136 5137 5138 ... 6417 6418 6419]\n"
          ],
          "name": "stdout"
        },
        {
          "output_type": "stream",
          "text": [
            "/usr/local/lib/python3.6/dist-packages/sklearn/utils/validation.py:760: DataConversionWarning: A column-vector y was passed when a 1d array was expected. Please change the shape of y to (n_samples, ), for example using ravel().\n",
            "  y = column_or_1d(y, warn=True)\n"
          ],
          "name": "stderr"
        },
        {
          "output_type": "stream",
          "text": [
            "[[597  64]\n",
            " [ 41 582]]\n",
            "(1284, 1)\n",
            "(1284, 1)\n",
            "accuracy  0.9182242990654206\n",
            "precision  0.9188478047854873\n",
            "recall  0.9182242990654206\n",
            "f1 0.9182414138957183\n",
            "[[597  64]\n",
            " [ 41 582]]\n"
          ],
          "name": "stdout"
        }
      ]
    },
    {
      "cell_type": "code",
      "metadata": {
        "id": "DWl5KcbkYtGW"
      },
      "source": [
        "y_pred_LR = classifier_LR_Val.predict(X_test_1)"
      ],
      "execution_count": null,
      "outputs": []
    },
    {
      "cell_type": "code",
      "metadata": {
        "colab": {
          "base_uri": "https://localhost:8080/"
        },
        "id": "iLFJnLVOY5xV",
        "outputId": "4213ea0b-da2f-454a-969f-7740303cf0a2"
      },
      "source": [
        "Evaluation_metrics(Y_test_1, y_pred_LR)"
      ],
      "execution_count": null,
      "outputs": [
        {
          "output_type": "stream",
          "text": [
            "accuracy  0.9210280373831776\n",
            "precision  0.9210218973166563\n",
            "recall  0.9210280373831776\n",
            "f1 0.9210150890371182\n",
            "[[1039   81]\n",
            " [  88  932]]\n"
          ],
          "name": "stdout"
        }
      ]
    },
    {
      "cell_type": "markdown",
      "metadata": {
        "id": "mnx141XFY9Up"
      },
      "source": [
        "SVM"
      ]
    },
    {
      "cell_type": "code",
      "metadata": {
        "colab": {
          "base_uri": "https://localhost:8080/"
        },
        "id": "RkPD3I5FY8pu",
        "outputId": "e41282f8-3f86-4b2e-ef37-d8e867c9fcd9"
      },
      "source": [
        "kf=KFold(n_splits=5, random_state=0, shuffle=False)\n",
        "for train_index, test_index in kf.split(X_train_1):\n",
        "  print(\"TRAIN:\", train_index, \"TEST:\", test_index)\n",
        "  x_train, x_test = X_train_1[train_index], X_train_1[test_index]\n",
        "  y_train, y_test = Y_train_1[train_index], Y_train_1[test_index]\n",
        "  y_test = y_test.reshape(-1,1)\n",
        "  y_train = y_train.reshape(-1,1)\n",
        "  classifier_SVC = SVC(kernel =\"rbf\")  \n",
        "  classifier_SVC.fit(x_train, y_train)\n",
        "  Y_pred = classifier_SVC.predict(x_test)\n",
        "  Y_pred = Y_pred.reshape(-1,1)\n",
        "  #cm = confusion_matrix(y_test,Y_pred)\n",
        "  #print(cm)\n",
        "  #print (Y_pred.shape)\n",
        "  #print (y_test.shape)\n",
        "  Evaluation_metrics(y_test, Y_pred)"
      ],
      "execution_count": null,
      "outputs": [
        {
          "output_type": "stream",
          "text": [
            "/usr/local/lib/python3.6/dist-packages/sklearn/model_selection/_split.py:296: FutureWarning: Setting a random_state has no effect since shuffle is False. This will raise an error in 0.24. You should leave random_state to its default (None), or set shuffle=True.\n",
            "  FutureWarning\n"
          ],
          "name": "stderr"
        },
        {
          "output_type": "stream",
          "text": [
            "TRAIN: [1284 1285 1286 ... 6417 6418 6419] TEST: [   0    1    2 ... 1281 1282 1283]\n"
          ],
          "name": "stdout"
        },
        {
          "output_type": "stream",
          "text": [
            "/usr/local/lib/python3.6/dist-packages/sklearn/utils/validation.py:760: DataConversionWarning: A column-vector y was passed when a 1d array was expected. Please change the shape of y to (n_samples, ), for example using ravel().\n",
            "  y = column_or_1d(y, warn=True)\n"
          ],
          "name": "stderr"
        },
        {
          "output_type": "stream",
          "text": [
            "accuracy  0.9431464174454829\n",
            "precision  0.9446860349836608\n",
            "recall  0.9431464174454829\n",
            "f1 0.9432153504797999\n",
            "[[634  54]\n",
            " [ 19 577]]\n",
            "TRAIN: [   0    1    2 ... 6417 6418 6419] TEST: [1284 1285 1286 ... 2565 2566 2567]\n"
          ],
          "name": "stdout"
        },
        {
          "output_type": "stream",
          "text": [
            "/usr/local/lib/python3.6/dist-packages/sklearn/utils/validation.py:760: DataConversionWarning: A column-vector y was passed when a 1d array was expected. Please change the shape of y to (n_samples, ), for example using ravel().\n",
            "  y = column_or_1d(y, warn=True)\n"
          ],
          "name": "stderr"
        },
        {
          "output_type": "stream",
          "text": [
            "accuracy  0.9376947040498442\n",
            "precision  0.9378187321224212\n",
            "recall  0.9376947040498442\n",
            "f1 0.9377202091417537\n",
            "[[644  44]\n",
            " [ 36 560]]\n",
            "TRAIN: [   0    1    2 ... 6417 6418 6419] TEST: [2568 2569 2570 ... 3849 3850 3851]\n"
          ],
          "name": "stdout"
        },
        {
          "output_type": "stream",
          "text": [
            "/usr/local/lib/python3.6/dist-packages/sklearn/utils/validation.py:760: DataConversionWarning: A column-vector y was passed when a 1d array was expected. Please change the shape of y to (n_samples, ), for example using ravel().\n",
            "  y = column_or_1d(y, warn=True)\n"
          ],
          "name": "stderr"
        },
        {
          "output_type": "stream",
          "text": [
            "accuracy  0.9384735202492211\n",
            "precision  0.9388013339386917\n",
            "recall  0.9384735202492211\n",
            "f1 0.9384728858228822\n",
            "[[602  48]\n",
            " [ 31 603]]\n",
            "TRAIN: [   0    1    2 ... 6417 6418 6419] TEST: [3852 3853 3854 ... 5133 5134 5135]\n"
          ],
          "name": "stdout"
        },
        {
          "output_type": "stream",
          "text": [
            "/usr/local/lib/python3.6/dist-packages/sklearn/utils/validation.py:760: DataConversionWarning: A column-vector y was passed when a 1d array was expected. Please change the shape of y to (n_samples, ), for example using ravel().\n",
            "  y = column_or_1d(y, warn=True)\n"
          ],
          "name": "stderr"
        },
        {
          "output_type": "stream",
          "text": [
            "accuracy  0.9447040498442367\n",
            "precision  0.9448805225544161\n",
            "recall  0.9447040498442367\n",
            "f1 0.9447228955256005\n",
            "[[632  41]\n",
            " [ 30 581]]\n",
            "TRAIN: [   0    1    2 ... 5133 5134 5135] TEST: [5136 5137 5138 ... 6417 6418 6419]\n"
          ],
          "name": "stdout"
        },
        {
          "output_type": "stream",
          "text": [
            "/usr/local/lib/python3.6/dist-packages/sklearn/utils/validation.py:760: DataConversionWarning: A column-vector y was passed when a 1d array was expected. Please change the shape of y to (n_samples, ), for example using ravel().\n",
            "  y = column_or_1d(y, warn=True)\n"
          ],
          "name": "stderr"
        },
        {
          "output_type": "stream",
          "text": [
            "accuracy  0.9353582554517134\n",
            "precision  0.9360929877152765\n",
            "recall  0.9353582554517134\n",
            "f1 0.9353709996025488\n",
            "[[607  54]\n",
            " [ 29 594]]\n"
          ],
          "name": "stdout"
        }
      ]
    },
    {
      "cell_type": "code",
      "metadata": {
        "id": "lfCIh1_MhjY_"
      },
      "source": [
        "y_pred_SVC = classifier_SVC.predict(X_test_1)"
      ],
      "execution_count": null,
      "outputs": []
    },
    {
      "cell_type": "code",
      "metadata": {
        "colab": {
          "base_uri": "https://localhost:8080/"
        },
        "id": "es3okF7mhsM9",
        "outputId": "8302db0e-ee9a-443e-ab25-57af723f672d"
      },
      "source": [
        "Evaluation_metrics(Y_test_1, y_pred_SVC)"
      ],
      "execution_count": null,
      "outputs": [
        {
          "output_type": "stream",
          "text": [
            "accuracy  0.9294392523364486\n",
            "precision  0.9295428260214874\n",
            "recall  0.9294392523364486\n",
            "f1 0.9294567072062007\n",
            "[[1038   82]\n",
            " [  69  951]]\n"
          ],
          "name": "stdout"
        }
      ]
    }
  ]
}